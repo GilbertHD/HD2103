{
  "nbformat": 4,
  "nbformat_minor": 0,
  "metadata": {
    "colab": {
      "name": "HD_08_02_FaceRecognition.ipynb",
      "provenance": [],
      "collapsed_sections": [],
      "authorship_tag": "ABX9TyOJUJPcpicBl7zrOwtX2TFa",
      "include_colab_link": true
    },
    "kernelspec": {
      "name": "python3",
      "display_name": "Python 3"
    },
    "accelerator": "GPU"
  },
  "cells": [
    {
      "cell_type": "markdown",
      "metadata": {
        "id": "view-in-github",
        "colab_type": "text"
      },
      "source": [
        "<a href=\"https://colab.research.google.com/github/GilbertHD/HD2103/blob/main/HD_08_02_FaceRecognition.ipynb\" target=\"_parent\"><img src=\"https://colab.research.google.com/assets/colab-badge.svg\" alt=\"Open In Colab\"/></a>"
      ]
    },
    {
      "cell_type": "markdown",
      "metadata": {
        "id": "ELCfZoiUsSX9"
      },
      "source": [
        "![image.png](data:image/png;base64,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) \r\n",
        "\r\n",
        "https://pypi.org/project/face-recognition/\r\n",
        "\r\n",
        "https://levelup.gitconnected.com/face-recognition-system-using-google-colab-ccca1d56f5f3"
      ]
    },
    {
      "cell_type": "code",
      "metadata": {
        "id": "HQ76QtLqsWTq"
      },
      "source": [
        "!mkdir known\r\n",
        "!wget https://upload.wikimedia.org/wikipedia/commons/e/ed/Elon_Musk_Royal_Society.jpg -O known/elon.jpg\r\n",
        "!wget https://pbs.twimg.com/profile_images/988775660163252226/XpgonN0X_400x400.jpg -O known/bill.jpg\r\n",
        "!wget https://upload.wikimedia.org/wikipedia/commons/thumb/1/18/Mark_Zuckerberg_F8_2019_Keynote_%2832830578717%29_%28cropped%29.jpg/220px-Mark_Zuckerberg_F8_2019_Keynote_%2832830578717%29_%28cropped%29.jpg -O known/mark.jpg"
      ],
      "execution_count": null,
      "outputs": []
    },
    {
      "cell_type": "code",
      "metadata": {
        "id": "8ArrxmSfo9uU",
        "colab": {
          "base_uri": "https://localhost:8080/"
        },
        "outputId": "b31fbc8e-a8f2-4d8a-9387-60ae64f47cee"
      },
      "source": [
        "!mkdir unknown\r\n",
        "!wget https://s.yimg.com/ny/api/res/1.2/nQ7A7Z3Cdl0lLaak2a73bA--/YXBwaWQ9aGlnaGxhbmRlcjt3PTk2MDtoPTY2Ny41/https://s.yimg.com/uu/api/res/1.2/ZwRHankdD8XGvdKsdIgNMw--~B/aD0xMzM1O3c9MTkyMDthcHBpZD15dGFjaHlvbg--/https://media.zenfs.com/en/gobankingrates_644/f1bdb5e4189661df2b6b7b2c90ab9dfa -O unknown/1.jpg\r\n",
        "!wget  https://upload.wikimedia.org/wikipedia/commons/a/a0/Bill_Gates_2018.jpg -O unknown/2.jpg\r\n",
        "!wget https://cdn.theatlantic.com/thumbor/UCXrWHURaKz3OyasLkI1pp20YF4=/0x220:4224x2596/720x405/media/img/mt/2019/10/RTS2RLOT/original.jpg -O unknown/3.jpg"
      ],
      "execution_count": null,
      "outputs": [
        {
          "output_type": "stream",
          "text": [
            "mkdir: cannot create directory ‘unknown’: File exists\n",
            "--2021-03-10 05:45:38--  https://s.yimg.com/ny/api/res/1.2/nQ7A7Z3Cdl0lLaak2a73bA--/YXBwaWQ9aGlnaGxhbmRlcjt3PTk2MDtoPTY2Ny41/https://s.yimg.com/uu/api/res/1.2/ZwRHankdD8XGvdKsdIgNMw--~B/aD0xMzM1O3c9MTkyMDthcHBpZD15dGFjaHlvbg--/https://media.zenfs.com/en/gobankingrates_644/f1bdb5e4189661df2b6b7b2c90ab9dfa\n",
            "Resolving s.yimg.com (s.yimg.com)... 69.147.92.11, 69.147.92.12, 2001:4998:14:800::1000, ...\n",
            "Connecting to s.yimg.com (s.yimg.com)|69.147.92.11|:443... connected.\n",
            "HTTP request sent, awaiting response... 200 OK\n",
            "Length: 69039 (67K) [image/jpeg]\n",
            "Saving to: ‘unknown/1.jpg’\n",
            "\n",
            "unknown/1.jpg       100%[===================>]  67.42K  --.-KB/s    in 0.03s   \n",
            "\n",
            "2021-03-10 05:45:38 (2.51 MB/s) - ‘unknown/1.jpg’ saved [69039/69039]\n",
            "\n",
            "--2021-03-10 05:45:38--  https://upload.wikimedia.org/wikipedia/commons/a/a0/Bill_Gates_2018.jpg\n",
            "Resolving upload.wikimedia.org (upload.wikimedia.org)... 208.80.154.240, 2620:0:861:ed1a::2:b\n",
            "Connecting to upload.wikimedia.org (upload.wikimedia.org)|208.80.154.240|:443... connected.\n",
            "HTTP request sent, awaiting response... 200 OK\n",
            "Length: 318220 (311K) [image/jpeg]\n",
            "Saving to: ‘unknown/2.jpg’\n",
            "\n",
            "unknown/2.jpg       100%[===================>] 310.76K  --.-KB/s    in 0.05s   \n",
            "\n",
            "2021-03-10 05:45:38 (5.87 MB/s) - ‘unknown/2.jpg’ saved [318220/318220]\n",
            "\n",
            "--2021-03-10 05:45:38--  https://cdn.theatlantic.com/thumbor/UCXrWHURaKz3OyasLkI1pp20YF4=/0x220:4224x2596/720x405/media/img/mt/2019/10/RTS2RLOT/original.jpg\n",
            "Resolving cdn.theatlantic.com (cdn.theatlantic.com)... 199.232.194.133, 199.232.198.133\n",
            "Connecting to cdn.theatlantic.com (cdn.theatlantic.com)|199.232.194.133|:443... connected.\n",
            "HTTP request sent, awaiting response... 200 OK\n",
            "Length: 65071 (64K) [image/jpeg]\n",
            "Saving to: ‘unknown/3.jpg’\n",
            "\n",
            "unknown/3.jpg       100%[===================>]  63.55K  --.-KB/s    in 0.01s   \n",
            "\n",
            "2021-03-10 05:45:38 (4.74 MB/s) - ‘unknown/3.jpg’ saved [65071/65071]\n",
            "\n"
          ],
          "name": "stdout"
        }
      ]
    },
    {
      "cell_type": "code",
      "metadata": {
        "colab": {
          "base_uri": "https://localhost:8080/"
        },
        "id": "JRC8a78vq7Z2",
        "outputId": "80c21833-06db-494a-d066-09f0aaf0c35a"
      },
      "source": [
        "!pip install face_recognition"
      ],
      "execution_count": null,
      "outputs": [
        {
          "output_type": "stream",
          "text": [
            "Collecting face_recognition\n",
            "  Downloading https://files.pythonhosted.org/packages/1e/95/f6c9330f54ab07bfa032bf3715c12455a381083125d8880c43cbe76bb3d0/face_recognition-1.3.0-py2.py3-none-any.whl\n",
            "Requirement already satisfied: numpy in /usr/local/lib/python3.7/dist-packages (from face_recognition) (1.19.5)\n",
            "Requirement already satisfied: dlib>=19.7 in /usr/local/lib/python3.7/dist-packages (from face_recognition) (19.18.0)\n",
            "Requirement already satisfied: Click>=6.0 in /usr/local/lib/python3.7/dist-packages (from face_recognition) (7.1.2)\n",
            "Requirement already satisfied: Pillow in /usr/local/lib/python3.7/dist-packages (from face_recognition) (7.0.0)\n",
            "Collecting face-recognition-models>=0.3.0\n",
            "\u001b[?25l  Downloading https://files.pythonhosted.org/packages/cf/3b/4fd8c534f6c0d1b80ce0973d01331525538045084c73c153ee6df20224cf/face_recognition_models-0.3.0.tar.gz (100.1MB)\n",
            "\u001b[K     |████████████████████████████████| 100.2MB 84kB/s \n",
            "\u001b[?25hBuilding wheels for collected packages: face-recognition-models\n",
            "  Building wheel for face-recognition-models (setup.py) ... \u001b[?25l\u001b[?25hdone\n",
            "  Created wheel for face-recognition-models: filename=face_recognition_models-0.3.0-py2.py3-none-any.whl size=100566173 sha256=8e3fe0a6b307720df928019045075b00ff1cc4ff6a64dfd03f4873955875e660\n",
            "  Stored in directory: /root/.cache/pip/wheels/d2/99/18/59c6c8f01e39810415c0e63f5bede7d83dfb0ffc039865465f\n",
            "Successfully built face-recognition-models\n",
            "Installing collected packages: face-recognition-models, face-recognition\n",
            "Successfully installed face-recognition-1.3.0 face-recognition-models-0.3.0\n"
          ],
          "name": "stdout"
        }
      ]
    },
    {
      "cell_type": "code",
      "metadata": {
        "id": "yTRb5dqs7bKU"
      },
      "source": [
        "import face_recognition   ##Detecting and recogniting faces\r\n",
        "import cv2     ## intracting with images\r\n",
        "import os       ## For Reading the file name\r\n",
        "from google.colab.patches import cv2_imshow ## we are importing cv2_imshow from google.colab.patches because google colab doesn't support cv2.imshow() funciton."
      ],
      "execution_count": null,
      "outputs": []
    },
    {
      "cell_type": "code",
      "metadata": {
        "id": "cz4Sg9IztMQT"
      },
      "source": [
        "def read_img(path):\r\n",
        "   img = cv2.imread(path) ## reading image\r\n",
        "   (h,w) = img.shape[:2]  ## fetching height and width\r\n",
        "   width = 500            ## hard coding width\r\n",
        "   ratio = width / float(w) ## preparing a ration for height\r\n",
        "   height = int(h * ratio)  ## generating new height\r\n",
        "   return cv2.resize(img,(width,height)) ##return the reshaped image"
      ],
      "execution_count": null,
      "outputs": []
    },
    {
      "cell_type": "code",
      "metadata": {
        "id": "0_vBdd7ntM4K"
      },
      "source": [
        "known_encodings = [] \r\n",
        "known_names = []\r\n",
        "known_dir = 'known' ##Known directory path\r\n",
        "for file in os.listdir(known_dir):\r\n",
        "  img = read_img(known_dir + '/' + file) ##Reading all the images\r\n",
        "  img_enc = face_recognition.face_encodings(img)[0] ##face encodings\r\n",
        "  known_encodings.append(img_enc) \r\n",
        "  known_names.append(file.split('.')[0])\r\n",
        "print(known_names) ## Printing all the known labels"
      ],
      "execution_count": null,
      "outputs": []
    },
    {
      "cell_type": "code",
      "metadata": {
        "id": "nBWLQrm-tO20"
      },
      "source": [
        "unknown_dir = 'unknown' ##UNknown Images Directory\r\n",
        "for file in os.listdir(unknown_dir):\r\n",
        " print(\"Processing\",file)\r\n",
        " img = read_img(unknown_dir + '/' + file)##reading images\r\n",
        " img_enc = face_recognition.face_encodings(img)[0]##Encodings\r\n",
        " results = face_recognition.compare_faces(known_encodings,img_enc)\r\n",
        " ##Comparing Known Encodings with Unknown encoding\r\n",
        " print(face_recognition.face_distance(known_encodings,img_enc))\r\n",
        " ## Printing Face Distances\r\n",
        " res = [i for i, val in enumerate(results) if val]\r\n",
        " name = known_names[res[0]]\r\n",
        " \r\n",
        " '''\r\n",
        "Drawing a rectangle box around the faces of unknown images using  face_locations function in library\r\n",
        "'''\r\n",
        " (top,right,bottom,left) = face_recognition.face_locations(img)[0]\r\n",
        " cv2.rectangle(img,(left,top),(right,bottom),(255,255,100),2)\r\n",
        " ##Drawing Rectangle\r\n",
        " cv2.putText(img,name,(left+2,bottom+20),cv2.FONT_HERSHEY_PLAIN,3, (100,0,255),2) ##Putting labels(names) on the rectangle\r\n",
        " cv2_imshow(img) ##showing images"
      ],
      "execution_count": null,
      "outputs": []
    }
  ]
}