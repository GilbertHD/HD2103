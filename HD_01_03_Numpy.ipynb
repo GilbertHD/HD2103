{
  "nbformat": 4,
  "nbformat_minor": 0,
  "metadata": {
    "colab": {
      "name": "HD_01_03_Numpy.ipynb",
      "provenance": [],
      "collapsed_sections": [],
      "toc_visible": true,
      "authorship_tag": "ABX9TyMpcMQlydBh5AmxoAH4VaPI",
      "include_colab_link": true
    },
    "kernelspec": {
      "name": "python3",
      "display_name": "Python 3"
    }
  },
  "cells": [
    {
      "cell_type": "markdown",
      "metadata": {
        "id": "view-in-github",
        "colab_type": "text"
      },
      "source": [
        "<a href=\"https://colab.research.google.com/github/GilbertHD/HD2103/blob/main/HD_01_03_Numpy.ipynb\" target=\"_parent\"><img src=\"https://colab.research.google.com/assets/colab-badge.svg\" alt=\"Open In Colab\"/></a>"
      ]
    },
    {
      "cell_type": "markdown",
      "metadata": {
        "id": "EL3OAQGv3i9D"
      },
      "source": [
        "## Numpy ndarray 개요"
      ]
    },
    {
      "cell_type": "code",
      "metadata": {
        "id": "63q7OExf3l6I"
      },
      "source": [
        "import numpy as np"
      ],
      "execution_count": null,
      "outputs": []
    },
    {
      "cell_type": "code",
      "metadata": {
        "colab": {
          "base_uri": "https://localhost:8080/"
        },
        "id": "OVNzzEa74Glw",
        "outputId": "5bc1a498-aeee-4254-fc6a-6f096fbafeff"
      },
      "source": [
        "array1 = np.array([1,2,3])\r\n",
        "print('array1 type:',type(array1))\r\n",
        "print('array1 array 형태:',array1.shape)\r\n",
        "\r\n",
        "array2 = np.array([[1,2,3],\r\n",
        "                  [2,3,4]])\r\n",
        "print('array2 type:',type(array2))\r\n",
        "print('array2 array 형태:',array2.shape)\r\n",
        "\r\n",
        "array3 = np.array([[1,2,3]])\r\n",
        "print('array3 type:',type(array3))\r\n",
        "print('array3 array 형태:',array3.shape)"
      ],
      "execution_count": null,
      "outputs": [
        {
          "output_type": "stream",
          "text": [
            "array1 type: <class 'numpy.ndarray'>\n",
            "array1 array 형태: (3,)\n",
            "array2 type: <class 'numpy.ndarray'>\n",
            "array2 array 형태: (2, 3)\n",
            "array3 type: <class 'numpy.ndarray'>\n",
            "array3 array 형태: (1, 3)\n"
          ],
          "name": "stdout"
        }
      ]
    },
    {
      "cell_type": "code",
      "metadata": {
        "colab": {
          "base_uri": "https://localhost:8080/"
        },
        "id": "6V5axW3g4W7d",
        "outputId": "afa628f8-25ae-4871-a002-1f341eb0df22"
      },
      "source": [
        "print('array1: {:0}차원, array2: {:1}차원, array3: {:2}차원'.format(array1.ndim,array2.ndim,array3.ndim))"
      ],
      "execution_count": null,
      "outputs": [
        {
          "output_type": "stream",
          "text": [
            "array1: 1차원, array2: 2차원, array3:  2차원\n"
          ],
          "name": "stdout"
        }
      ]
    },
    {
      "cell_type": "code",
      "metadata": {
        "colab": {
          "base_uri": "https://localhost:8080/"
        },
        "id": "Isx4by5u4W-V",
        "outputId": "3f38e16e-580a-4fe9-bed9-e473c71756e3"
      },
      "source": [
        "list1 = [1,2,3]\r\n",
        "print(type(list1))\r\n",
        "array1 = np.array(list1)\r\n",
        "print(type(array1))\r\n",
        "print(array1, array1.dtype)"
      ],
      "execution_count": null,
      "outputs": [
        {
          "output_type": "stream",
          "text": [
            "<class 'list'>\n",
            "<class 'numpy.ndarray'>\n",
            "[1 2 3] int64\n"
          ],
          "name": "stdout"
        }
      ]
    },
    {
      "cell_type": "code",
      "metadata": {
        "colab": {
          "base_uri": "https://localhost:8080/"
        },
        "id": "gsgvVLuW4kut",
        "outputId": "e5051106-77b5-42b5-ad1f-f920a75d9e5f"
      },
      "source": [
        "list2 = [1, 2, 'test']\r\n",
        "array2 = np.array(list2)\r\n",
        "print(array2, array2.dtype)\r\n",
        "\r\n",
        "list3 = [1, 2, 3.0]\r\n",
        "array3 = np.array(list3)\r\n",
        "print(array3, array3.dtype)"
      ],
      "execution_count": null,
      "outputs": [
        {
          "output_type": "stream",
          "text": [
            "['1' '2' 'test'] <U21\n",
            "[1. 2. 3.] float64\n"
          ],
          "name": "stdout"
        }
      ]
    },
    {
      "cell_type": "code",
      "metadata": {
        "colab": {
          "base_uri": "https://localhost:8080/"
        },
        "id": "mFX0KV7p4o2U",
        "outputId": "aebc3916-c807-40b7-c554-055789a46258"
      },
      "source": [
        "array_int = np.array([1, 2, 3])\r\n",
        "array_float = array_int.astype('float64')\r\n",
        "print(array_float, array_float.dtype)\r\n",
        "\r\n",
        "array_int1= array_float.astype('int32')\r\n",
        "print(array_int1, array_int1.dtype)\r\n",
        "\r\n",
        "array_float1 = np.array([1.1, 2.1, 3.1])\r\n",
        "array_int2= array_float1.astype('int32')\r\n",
        "print(array_int2, array_int2.dtype)\r\n"
      ],
      "execution_count": null,
      "outputs": [
        {
          "output_type": "stream",
          "text": [
            "[1. 2. 3.] float64\n",
            "[1 2 3] int32\n",
            "[1 2 3] int32\n"
          ],
          "name": "stdout"
        }
      ]
    },
    {
      "cell_type": "markdown",
      "metadata": {
        "id": "fkciIcFW4xek"
      },
      "source": [
        "## ndarray를 편리하게 생성하기 - arange, zeros, ones"
      ]
    },
    {
      "cell_type": "code",
      "metadata": {
        "colab": {
          "base_uri": "https://localhost:8080/"
        },
        "id": "O-SpQ0Mj4rmQ",
        "outputId": "b9a4633f-79b5-4ec0-f069-e482156d606c"
      },
      "source": [
        "sequence_array = np.arange(10)\r\n",
        "print(sequence_array)\r\n",
        "print(sequence_array.dtype, sequence_array.shape)"
      ],
      "execution_count": null,
      "outputs": [
        {
          "output_type": "stream",
          "text": [
            "[0 1 2 3 4 5 6 7 8 9]\n",
            "int64 (10,)\n"
          ],
          "name": "stdout"
        }
      ]
    },
    {
      "cell_type": "code",
      "metadata": {
        "colab": {
          "base_uri": "https://localhost:8080/"
        },
        "id": "wic_frxH5A-t",
        "outputId": "9f33ebfb-b62e-44e8-8e30-56525010c170"
      },
      "source": [
        "zero_array = np.zeros((3,2),dtype='int32')\r\n",
        "print(zero_array)\r\n",
        "print(zero_array.dtype, zero_array.shape)\r\n",
        "\r\n",
        "one_array = np.ones((3,2))\r\n",
        "print(one_array)\r\n",
        "print(one_array.dtype, one_array.shape)"
      ],
      "execution_count": null,
      "outputs": [
        {
          "output_type": "stream",
          "text": [
            "[[0 0]\n",
            " [0 0]\n",
            " [0 0]]\n",
            "int32 (3, 2)\n",
            "[[1. 1.]\n",
            " [1. 1.]\n",
            " [1. 1.]]\n",
            "float64 (3, 2)\n"
          ],
          "name": "stdout"
        }
      ]
    },
    {
      "cell_type": "markdown",
      "metadata": {
        "id": "qeIbYBQ_5KxG"
      },
      "source": [
        "## reshape"
      ]
    },
    {
      "cell_type": "code",
      "metadata": {
        "colab": {
          "base_uri": "https://localhost:8080/"
        },
        "id": "Y959Hqse5H82",
        "outputId": "91b10198-46b3-44c0-ba8b-d762f5b14a93"
      },
      "source": [
        "array1 = np.arange(10)\r\n",
        "print('array1:\\n', array1)\r\n",
        "\r\n",
        "array2 = array1.reshape(2,5)\r\n",
        "print('array2:\\n',array2)\r\n",
        "\r\n",
        "array3 = array1.reshape(5,2)\r\n",
        "print('array3:\\n',array3)"
      ],
      "execution_count": null,
      "outputs": [
        {
          "output_type": "stream",
          "text": [
            "array1:\n",
            " [0 1 2 3 4 5 6 7 8 9]\n",
            "array2:\n",
            " [[0 1 2 3 4]\n",
            " [5 6 7 8 9]]\n",
            "array3:\n",
            " [[0 1]\n",
            " [2 3]\n",
            " [4 5]\n",
            " [6 7]\n",
            " [8 9]]\n"
          ],
          "name": "stdout"
        }
      ]
    },
    {
      "cell_type": "code",
      "metadata": {
        "colab": {
          "base_uri": "https://localhost:8080/",
          "height": 173
        },
        "id": "Mk_IZOMW5Va_",
        "outputId": "f04a280f-a390-4a24-88be-72c5331280b8"
      },
      "source": [
        "array1.reshape(4,3)"
      ],
      "execution_count": null,
      "outputs": [
        {
          "output_type": "error",
          "ename": "ValueError",
          "evalue": "ignored",
          "traceback": [
            "\u001b[0;31m---------------------------------------------------------------------------\u001b[0m",
            "\u001b[0;31mValueError\u001b[0m                                Traceback (most recent call last)",
            "\u001b[0;32m<ipython-input-10-a40469ec5825>\u001b[0m in \u001b[0;36m<module>\u001b[0;34m()\u001b[0m\n\u001b[0;32m----> 1\u001b[0;31m \u001b[0marray1\u001b[0m\u001b[0;34m.\u001b[0m\u001b[0mreshape\u001b[0m\u001b[0;34m(\u001b[0m\u001b[0;36m4\u001b[0m\u001b[0;34m,\u001b[0m\u001b[0;36m3\u001b[0m\u001b[0;34m)\u001b[0m\u001b[0;34m\u001b[0m\u001b[0;34m\u001b[0m\u001b[0m\n\u001b[0m",
            "\u001b[0;31mValueError\u001b[0m: cannot reshape array of size 10 into shape (4,3)"
          ]
        }
      ]
    },
    {
      "cell_type": "code",
      "metadata": {
        "colab": {
          "base_uri": "https://localhost:8080/"
        },
        "id": "hlRV9lYn5Y3n",
        "outputId": "1f7d5a1d-4a6f-4102-8954-eef6478ba9e7"
      },
      "source": [
        "array1 = np.arange(10)\r\n",
        "print(array1)\r\n",
        "\r\n",
        "array2 = array1.reshape(-1,5)\r\n",
        "print('array2 shape:',array2.shape)\r\n",
        "\r\n",
        "array3 = array1.reshape(5,-1)\r\n",
        "print('array3 shape:',array3.shape)"
      ],
      "execution_count": null,
      "outputs": [
        {
          "output_type": "stream",
          "text": [
            "[0 1 2 3 4 5 6 7 8 9]\n",
            "array2 shape: (2, 5)\n",
            "array3 shape: (5, 2)\n"
          ],
          "name": "stdout"
        }
      ]
    },
    {
      "cell_type": "code",
      "metadata": {
        "colab": {
          "base_uri": "https://localhost:8080/",
          "height": 191
        },
        "id": "K0CDnu6b5cHn",
        "outputId": "94ba64e1-241b-4e7e-9d89-614d30ae6003"
      },
      "source": [
        "array1 = np.arange(10)\r\n",
        "array4 = array1.reshape(-1,4)"
      ],
      "execution_count": null,
      "outputs": [
        {
          "output_type": "error",
          "ename": "ValueError",
          "evalue": "ignored",
          "traceback": [
            "\u001b[0;31m---------------------------------------------------------------------------\u001b[0m",
            "\u001b[0;31mValueError\u001b[0m                                Traceback (most recent call last)",
            "\u001b[0;32m<ipython-input-12-07da9760475e>\u001b[0m in \u001b[0;36m<module>\u001b[0;34m()\u001b[0m\n\u001b[1;32m      1\u001b[0m \u001b[0marray1\u001b[0m \u001b[0;34m=\u001b[0m \u001b[0mnp\u001b[0m\u001b[0;34m.\u001b[0m\u001b[0marange\u001b[0m\u001b[0;34m(\u001b[0m\u001b[0;36m10\u001b[0m\u001b[0;34m)\u001b[0m\u001b[0;34m\u001b[0m\u001b[0;34m\u001b[0m\u001b[0m\n\u001b[0;32m----> 2\u001b[0;31m \u001b[0marray4\u001b[0m \u001b[0;34m=\u001b[0m \u001b[0marray1\u001b[0m\u001b[0;34m.\u001b[0m\u001b[0mreshape\u001b[0m\u001b[0;34m(\u001b[0m\u001b[0;34m-\u001b[0m\u001b[0;36m1\u001b[0m\u001b[0;34m,\u001b[0m\u001b[0;36m4\u001b[0m\u001b[0;34m)\u001b[0m\u001b[0;34m\u001b[0m\u001b[0;34m\u001b[0m\u001b[0m\n\u001b[0m",
            "\u001b[0;31mValueError\u001b[0m: cannot reshape array of size 10 into shape (4)"
          ]
        }
      ]
    },
    {
      "cell_type": "code",
      "metadata": {
        "colab": {
          "base_uri": "https://localhost:8080/"
        },
        "id": "4fb6lju45i-4",
        "outputId": "c96e8c5e-55d8-4b7f-ba0b-1e08d87702fb"
      },
      "source": [
        "array1 = np.arange(8)\r\n",
        "array3d = array1.reshape((2,2,2))\r\n",
        "print('array3d:\\n',array3d.tolist())\r\n",
        "\r\n",
        "# 3차원 ndarray를 2차원 ndarray로 변환\r\n",
        "array5 = array3d.reshape(-1,1)\r\n",
        "print('array5:\\n',array5.tolist())\r\n",
        "print('array5 shape:',array5.shape)\r\n",
        "\r\n",
        "# 1차원 ndarray를 2차원 ndarray로 변환\r\n",
        "array6 = array1.reshape(-1,1)\r\n",
        "print('array6:\\n',array6.tolist())\r\n",
        "print('array6 shape:',array6.shape)"
      ],
      "execution_count": null,
      "outputs": [
        {
          "output_type": "stream",
          "text": [
            "array3d:\n",
            " [[[0, 1], [2, 3]], [[4, 5], [6, 7]]]\n",
            "array5:\n",
            " [[0], [1], [2], [3], [4], [5], [6], [7]]\n",
            "array5 shape: (8, 1)\n",
            "array6:\n",
            " [[0], [1], [2], [3], [4], [5], [6], [7]]\n",
            "array6 shape: (8, 1)\n"
          ],
          "name": "stdout"
        }
      ]
    },
    {
      "cell_type": "markdown",
      "metadata": {
        "id": "9VLEs-PV5mOn"
      },
      "source": [
        "## indexing"
      ]
    },
    {
      "cell_type": "markdown",
      "metadata": {
        "id": "Cc67o_ww5pfu"
      },
      "source": [
        "### 단일값 추출"
      ]
    },
    {
      "cell_type": "code",
      "metadata": {
        "colab": {
          "base_uri": "https://localhost:8080/"
        },
        "id": "JLpCqZpe5cJO",
        "outputId": "cff73370-0f64-45a3-afe4-cc51ee3b2aff"
      },
      "source": [
        "array1 = np.arange(start=1, stop=10)\r\n",
        "print('array1:',array1)\r\n",
        "# index는 0 부터 시작하므로 array1[2]는 3번째 index 위치의 데이터 값을 의미\r\n",
        "value = array1[2]\r\n",
        "print('value:',value)\r\n",
        "print(type(value))"
      ],
      "execution_count": null,
      "outputs": [
        {
          "output_type": "stream",
          "text": [
            "array1: [1 2 3 4 5 6 7 8 9]\n",
            "value: 3\n",
            "<class 'numpy.int64'>\n"
          ],
          "name": "stdout"
        }
      ]
    },
    {
      "cell_type": "code",
      "metadata": {
        "colab": {
          "base_uri": "https://localhost:8080/"
        },
        "id": "wgvouyCg54zB",
        "outputId": "6c35f5ef-2236-481e-df72-43f0d543ce60"
      },
      "source": [
        "print('맨 뒤의 값:',array1[-1], ', 맨 뒤에서 두번째 값:',array1[-2])"
      ],
      "execution_count": null,
      "outputs": [
        {
          "output_type": "stream",
          "text": [
            "맨 뒤의 값: 9 , 맨 뒤에서 두번째 값: 8\n"
          ],
          "name": "stdout"
        }
      ]
    },
    {
      "cell_type": "code",
      "metadata": {
        "colab": {
          "base_uri": "https://localhost:8080/"
        },
        "id": "kSk51W3f6qaI",
        "outputId": "c0de4424-358d-4111-a844-3e595492216c"
      },
      "source": [
        "array1[0] = 9\r\n",
        "array1[8] = 0\r\n",
        "print('array1:',array1)"
      ],
      "execution_count": null,
      "outputs": [
        {
          "output_type": "stream",
          "text": [
            "array1: [9 2 3 4 5 6 7 8 0]\n"
          ],
          "name": "stdout"
        }
      ]
    },
    {
      "cell_type": "code",
      "metadata": {
        "colab": {
          "base_uri": "https://localhost:8080/"
        },
        "id": "P4VeTefJ6tb3",
        "outputId": "88694016-6353-4224-8a27-9ac6b081abd6"
      },
      "source": [
        "array1d = np.arange(start=1, stop=10)\r\n",
        "array2d = array1d.reshape(3,3)\r\n",
        "print(array2d)\r\n",
        "\r\n",
        "print('(row=0,col=0) index 가리키는 값:', array2d[0,0] )\r\n",
        "print('(row=0,col=1) index 가리키는 값:', array2d[0,1] )\r\n",
        "print('(row=1,col=0) index 가리키는 값:', array2d[1,0] )\r\n",
        "print('(row=2,col=2) index 가리키는 값:', array2d[2,2] )"
      ],
      "execution_count": null,
      "outputs": [
        {
          "output_type": "stream",
          "text": [
            "[[1 2 3]\n",
            " [4 5 6]\n",
            " [7 8 9]]\n",
            "(row=0,col=0) index 가리키는 값: 1\n",
            "(row=0,col=1) index 가리키는 값: 2\n",
            "(row=1,col=0) index 가리키는 값: 4\n",
            "(row=2,col=2) index 가리키는 값: 9\n"
          ],
          "name": "stdout"
        }
      ]
    },
    {
      "cell_type": "markdown",
      "metadata": {
        "id": "_FiGnF897Qn9"
      },
      "source": [
        "## Slicing"
      ]
    },
    {
      "cell_type": "code",
      "metadata": {
        "colab": {
          "base_uri": "https://localhost:8080/"
        },
        "id": "CfMg0gcK7R7P",
        "outputId": "751c9875-31fb-4feb-ea87-349e6bae6a9a"
      },
      "source": [
        "array1 = np.arange(start=1, stop=10)\r\n",
        "array3 = array1[0:3]\r\n",
        "print(array3)\r\n",
        "print(type(array3))"
      ],
      "execution_count": null,
      "outputs": [
        {
          "output_type": "stream",
          "text": [
            "[1 2 3]\n",
            "<class 'numpy.ndarray'>\n"
          ],
          "name": "stdout"
        }
      ]
    },
    {
      "cell_type": "code",
      "metadata": {
        "colab": {
          "base_uri": "https://localhost:8080/"
        },
        "id": "2179g4yT7dnB",
        "outputId": "c557d933-b313-4311-c17e-dc678638627d"
      },
      "source": [
        "array1 = np.arange(start=1, stop=10)\r\n",
        "array4 = array1[:3]\r\n",
        "print(array4)\r\n",
        "\r\n",
        "array5 = array1[3:]\r\n",
        "print(array5)\r\n",
        "\r\n",
        "array6 = array1[:]\r\n",
        "print(array6)"
      ],
      "execution_count": null,
      "outputs": [
        {
          "output_type": "stream",
          "text": [
            "[1 2 3]\n",
            "[4 5 6 7 8 9]\n",
            "[1 2 3 4 5 6 7 8 9]\n"
          ],
          "name": "stdout"
        }
      ]
    },
    {
      "cell_type": "code",
      "metadata": {
        "colab": {
          "base_uri": "https://localhost:8080/"
        },
        "id": "ObT2AJtf7hfV",
        "outputId": "791b3fb1-9d3d-48bc-e47f-e2bef1e27b91"
      },
      "source": [
        "array1d = np.arange(start=1, stop=10)\r\n",
        "array2d = array1d.reshape(3,3)\r\n",
        "print('array2d:\\n',array2d)\r\n",
        "\r\n",
        "print('array2d[0:2, 0:2] \\n', array2d[0:2, 0:2])\r\n",
        "print('array2d[1:3, 0:3] \\n', array2d[1:3, 0:3])\r\n",
        "print('array2d[1:3, :] \\n', array2d[1:3, :])\r\n",
        "print('array2d[:, :] \\n', array2d[:, :])\r\n",
        "print('array2d[:2, 1:] \\n', array2d[:2, 1:])\r\n",
        "print('array2d[:2, 0] \\n', array2d[:2, 0])"
      ],
      "execution_count": null,
      "outputs": [
        {
          "output_type": "stream",
          "text": [
            "array2d:\n",
            " [[1 2 3]\n",
            " [4 5 6]\n",
            " [7 8 9]]\n",
            "array2d[0:2, 0:2] \n",
            " [[1 2]\n",
            " [4 5]]\n",
            "array2d[1:3, 0:3] \n",
            " [[4 5 6]\n",
            " [7 8 9]]\n",
            "array2d[1:3, :] \n",
            " [[4 5 6]\n",
            " [7 8 9]]\n",
            "array2d[:, :] \n",
            " [[1 2 3]\n",
            " [4 5 6]\n",
            " [7 8 9]]\n",
            "array2d[:2, 1:] \n",
            " [[2 3]\n",
            " [5 6]]\n",
            "array2d[:2, 0] \n",
            " [1 4]\n"
          ],
          "name": "stdout"
        }
      ]
    },
    {
      "cell_type": "code",
      "metadata": {
        "colab": {
          "base_uri": "https://localhost:8080/"
        },
        "id": "WVFGsxOw7qmt",
        "outputId": "32839b08-ad2c-493a-d2ee-11ba589e5604"
      },
      "source": [
        "print(array2d[0])\r\n",
        "print(array2d[1])\r\n",
        "print('array2d[0] shape:', array2d[0].shape, 'array2d[1] shape:', array2d[1].shape )"
      ],
      "execution_count": null,
      "outputs": [
        {
          "output_type": "stream",
          "text": [
            "[1 2 3]\n",
            "[4 5 6]\n",
            "array2d[0] shape: (3,) array2d[1] shape: (3,)\n"
          ],
          "name": "stdout"
        }
      ]
    },
    {
      "cell_type": "markdown",
      "metadata": {
        "id": "trm6eF9D7zcF"
      },
      "source": [
        "## fancy indexing"
      ]
    },
    {
      "cell_type": "code",
      "metadata": {
        "colab": {
          "base_uri": "https://localhost:8080/"
        },
        "id": "ImvEkcYQ74UW",
        "outputId": "b3e90b74-fecb-47b3-d0ce-11445b0a54f4"
      },
      "source": [
        "array1d = np.arange(start=1, stop=10)\r\n",
        "array2d = array1d.reshape(3,3)\r\n",
        "\r\n",
        "array3 = array2d[[0,1], 2]\r\n",
        "print('array2d[[0,1], 2] => ',array3.tolist())\r\n",
        "\r\n",
        "array4 = array2d[[0,1], 0:2]\r\n",
        "print('array2d[[0,1], 0:2] => ',array4.tolist())\r\n",
        "\r\n",
        "array5 = array2d[[0,1]]\r\n",
        "print('array2d[[0,1]] => ',array5.tolist())"
      ],
      "execution_count": null,
      "outputs": [
        {
          "output_type": "stream",
          "text": [
            "array2d[[0,1], 2] =>  [3, 6]\n",
            "array2d[[0,1], 0:2] =>  [[1, 2], [4, 5]]\n",
            "array2d[[0,1]] =>  [[1, 2, 3], [4, 5, 6]]\n"
          ],
          "name": "stdout"
        }
      ]
    },
    {
      "cell_type": "markdown",
      "metadata": {
        "id": "KFXWOTfg8MzW"
      },
      "source": [
        "### Boolean indexing"
      ]
    },
    {
      "cell_type": "code",
      "metadata": {
        "colab": {
          "base_uri": "https://localhost:8080/"
        },
        "id": "a87Gbe_D8Obw",
        "outputId": "799658ff-234b-4d97-8d54-76570a0d765e"
      },
      "source": [
        "array1d = np.arange(start=1, stop=10)\r\n",
        "# [ ] 안에 array1d > 5 Boolean indexing을 적용 \r\n",
        "array3 = array1d[array1d > 5]\r\n",
        "print('array1d > 5 불린 인덱싱 결과 값 :', array3)"
      ],
      "execution_count": null,
      "outputs": [
        {
          "output_type": "stream",
          "text": [
            "array1d > 5 불린 인덱싱 결과 값 : [6 7 8 9]\n"
          ],
          "name": "stdout"
        }
      ]
    },
    {
      "cell_type": "code",
      "metadata": {
        "colab": {
          "base_uri": "https://localhost:8080/"
        },
        "id": "SJPFl4mU8Tst",
        "outputId": "4bc3ebd2-fb27-4abe-fafe-66c2c77dec45"
      },
      "source": [
        "array1d > 5"
      ],
      "execution_count": null,
      "outputs": [
        {
          "output_type": "execute_result",
          "data": {
            "text/plain": [
              "array([False, False, False, False, False,  True,  True,  True,  True])"
            ]
          },
          "metadata": {
            "tags": []
          },
          "execution_count": 30
        }
      ]
    },
    {
      "cell_type": "code",
      "metadata": {
        "colab": {
          "base_uri": "https://localhost:8080/"
        },
        "id": "s7uRA2rs9H2E",
        "outputId": "18a45631-fdcf-41fc-8f7b-9192ce1ac5a6"
      },
      "source": [
        "boolean_indexes = np.array([False, False, False, False, False,  True,  True,  True,  True])\r\n",
        "array3 = array1d[boolean_indexes]\r\n",
        "print('불린 인덱스로 필터링 결과 :', array3)"
      ],
      "execution_count": null,
      "outputs": [
        {
          "output_type": "stream",
          "text": [
            "불린 인덱스로 필터링 결과 : [6 7 8 9]\n"
          ],
          "name": "stdout"
        }
      ]
    },
    {
      "cell_type": "code",
      "metadata": {
        "colab": {
          "base_uri": "https://localhost:8080/"
        },
        "id": "6EVEUmLe9hy2",
        "outputId": "ca0442fd-9651-49de-e83d-90357b90b778"
      },
      "source": [
        "indexes = np.array([5,6,7,8])\r\n",
        "array4 = array1d[ indexes ]\r\n",
        "print('일반 인덱스로 필터링 결과 :',array4)"
      ],
      "execution_count": null,
      "outputs": [
        {
          "output_type": "stream",
          "text": [
            "일반 인덱스로 필터링 결과 : [6 7 8 9]\n"
          ],
          "name": "stdout"
        }
      ]
    },
    {
      "cell_type": "markdown",
      "metadata": {
        "id": "OfiS8ATk9lTR"
      },
      "source": [
        "## 행렬의 정렬 – sort( )와 argsort( )"
      ]
    },
    {
      "cell_type": "markdown",
      "metadata": {
        "id": "W0O5ov_-9nBJ"
      },
      "source": [
        "### 행렬 정렬"
      ]
    },
    {
      "cell_type": "code",
      "metadata": {
        "colab": {
          "base_uri": "https://localhost:8080/"
        },
        "id": "oSZ8sOh79rRW",
        "outputId": "0d92b57c-a073-4d35-ffa5-25fd19230f32"
      },
      "source": [
        "org_array = np.array([ 3, 1, 9, 5]) \r\n",
        "print('원본 행렬:', org_array)\r\n",
        "# np.sort( )로 정렬 \r\n",
        "sort_array1 = np.sort(org_array)         \r\n",
        "print ('np.sort( ) 호출 후 반환된 정렬 행렬:', sort_array1) \r\n",
        "print('np.sort( ) 호출 후 원본 행렬:', org_array)\r\n",
        "# ndarray.sort( )로 정렬\r\n",
        "sort_array2 = org_array.sort()\r\n",
        "print('org_array.sort( ) 호출 후 반환된 행렬:', sort_array2)\r\n",
        "print('org_array.sort( ) 호출 후 원본 행렬:', org_array)\r\n"
      ],
      "execution_count": null,
      "outputs": [
        {
          "output_type": "stream",
          "text": [
            "원본 행렬: [3 1 9 5]\n",
            "np.sort( ) 호출 후 반환된 정렬 행렬: [1 3 5 9]\n",
            "np.sort( ) 호출 후 원본 행렬: [3 1 9 5]\n",
            "org_array.sort( ) 호출 후 반환된 행렬: None\n",
            "org_array.sort( ) 호출 후 원본 행렬: [1 3 5 9]\n"
          ],
          "name": "stdout"
        }
      ]
    },
    {
      "cell_type": "code",
      "metadata": {
        "colab": {
          "base_uri": "https://localhost:8080/"
        },
        "id": "UD1KdngT9wQ2",
        "outputId": "431bcf8e-0da3-49fd-b1c7-9c94390e4e4e"
      },
      "source": [
        "sort_array1_desc = np.sort(org_array)[::-1]\r\n",
        "print ('내림차순으로 정렬:', sort_array1_desc) "
      ],
      "execution_count": null,
      "outputs": [
        {
          "output_type": "stream",
          "text": [
            "내림차순으로 정렬: [9 5 3 1]\n"
          ],
          "name": "stdout"
        }
      ]
    },
    {
      "cell_type": "code",
      "metadata": {
        "colab": {
          "base_uri": "https://localhost:8080/"
        },
        "id": "1ETTsNfe9zBG",
        "outputId": "56dbb229-4726-4f01-86b1-1486f0e5d39d"
      },
      "source": [
        "array2d = np.array([[8, 12], \r\n",
        "                   [7, 1 ]])\r\n",
        "\r\n",
        "sort_array2d_axis0 = np.sort(array2d, axis=0)\r\n",
        "print('로우 방향으로 정렬:\\n', sort_array2d_axis0)\r\n",
        "\r\n",
        "sort_array2d_axis1 = np.sort(array2d, axis=1)\r\n",
        "print('컬럼 방향으로 정렬:\\n', sort_array2d_axis1)"
      ],
      "execution_count": null,
      "outputs": [
        {
          "output_type": "stream",
          "text": [
            "로우 방향으로 정렬:\n",
            " [[ 7  1]\n",
            " [ 8 12]]\n",
            "컬럼 방향으로 정렬:\n",
            " [[ 8 12]\n",
            " [ 1  7]]\n"
          ],
          "name": "stdout"
        }
      ]
    },
    {
      "cell_type": "markdown",
      "metadata": {
        "id": "_xl2DT9-91TQ"
      },
      "source": [
        "### 정렬 행렬의 인덱스 반환"
      ]
    },
    {
      "cell_type": "code",
      "metadata": {
        "colab": {
          "base_uri": "https://localhost:8080/"
        },
        "id": "9zqFSYqK93Uw",
        "outputId": "4408667e-ab58-41d0-a16f-b950a2e62f2f"
      },
      "source": [
        "org_array = np.array([ 3, 1, 9, 5]) \r\n",
        "sort_indices = np.argsort(org_array)\r\n",
        "print(type(sort_indices))\r\n",
        "print('행렬 정렬 시 원본 행렬의 인덱스:', sort_indices)"
      ],
      "execution_count": null,
      "outputs": [
        {
          "output_type": "stream",
          "text": [
            "<class 'numpy.ndarray'>\n",
            "행렬 정렬 시 원본 행렬의 인덱스: [1 0 3 2]\n"
          ],
          "name": "stdout"
        }
      ]
    },
    {
      "cell_type": "code",
      "metadata": {
        "colab": {
          "base_uri": "https://localhost:8080/"
        },
        "id": "QlmVIKBi987i",
        "outputId": "acca1c13-0f0a-45f1-8e51-2e5086ead649"
      },
      "source": [
        "org_array = np.array([ 3, 1, 9, 5]) \r\n",
        "sort_indices_desc = np.argsort(org_array)[::-1]\r\n",
        "print('행렬 내림차순 정렬 시 원본 행렬의 인덱스:', sort_indices_desc)"
      ],
      "execution_count": null,
      "outputs": [
        {
          "output_type": "stream",
          "text": [
            "행렬 내림차순 정렬 시 원본 행렬의 인덱스: [2 3 0 1]\n"
          ],
          "name": "stdout"
        }
      ]
    },
    {
      "cell_type": "markdown",
      "metadata": {
        "id": "qYyZ22jk-BPl"
      },
      "source": [
        "## 선형대수 연산 – 행렬 내적과 전치 행렬 구하기"
      ]
    },
    {
      "cell_type": "markdown",
      "metadata": {
        "id": "Ft9-0eDw-EQX"
      },
      "source": [
        "## 행렬 내적"
      ]
    },
    {
      "cell_type": "code",
      "metadata": {
        "colab": {
          "base_uri": "https://localhost:8080/"
        },
        "id": "jYSyg3bx-Cu1",
        "outputId": "21c2fa66-0923-4b6b-8b0b-0830a7508025"
      },
      "source": [
        "A = np.array([[1, 2, 3],\r\n",
        "              [4, 5, 6]])\r\n",
        "B = np.array([[7, 8],\r\n",
        "              [9, 10],\r\n",
        "              [11, 12]])\r\n",
        "\r\n",
        "dot_product = np.dot(A, B)\r\n",
        "print('행렬 내적 결과:\\n', dot_product)"
      ],
      "execution_count": null,
      "outputs": [
        {
          "output_type": "stream",
          "text": [
            "행렬 내적 결과:\n",
            " [[ 58  64]\n",
            " [139 154]]\n"
          ],
          "name": "stdout"
        }
      ]
    },
    {
      "cell_type": "markdown",
      "metadata": {
        "id": "6ApE-STz-JcH"
      },
      "source": [
        "### 전치 행렬"
      ]
    },
    {
      "cell_type": "code",
      "metadata": {
        "colab": {
          "base_uri": "https://localhost:8080/"
        },
        "id": "axC4jGUC-Kq4",
        "outputId": "5186002e-a7f3-4443-dff3-08245a90e2b5"
      },
      "source": [
        "A = np.array([[1, 2],\r\n",
        "              [3, 4]])\r\n",
        "transpose_mat = np.transpose(A)\r\n",
        "print('A의 전치 행렬:\\n', transpose_mat)"
      ],
      "execution_count": null,
      "outputs": [
        {
          "output_type": "stream",
          "text": [
            "A의 전치 행렬:\n",
            " [[1 3]\n",
            " [2 4]]\n"
          ],
          "name": "stdout"
        }
      ]
    }
  ]
}