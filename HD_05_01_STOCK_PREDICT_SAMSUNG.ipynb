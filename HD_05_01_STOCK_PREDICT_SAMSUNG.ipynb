{
  "nbformat": 4,
  "nbformat_minor": 0,
  "metadata": {
    "colab": {
      "name": "HD_05_01_STOCK_PREDICT_SAMSUNG.ipynb",
      "provenance": [],
      "authorship_tag": "ABX9TyMqF4f8LpVtFsLFDKMarFoo",
      "include_colab_link": true
    },
    "kernelspec": {
      "name": "python3",
      "display_name": "Python 3"
    },
    "accelerator": "GPU"
  },
  "cells": [
    {
      "cell_type": "markdown",
      "metadata": {
        "id": "view-in-github",
        "colab_type": "text"
      },
      "source": [
        "<a href=\"https://colab.research.google.com/github/GilbertHD/HD2103/blob/main/HD_05_01_STOCK_PREDICT_SAMSUNG.ipynb\" target=\"_parent\"><img src=\"https://colab.research.google.com/assets/colab-badge.svg\" alt=\"Open In Colab\"/></a>"
      ]
    },
    {
      "cell_type": "code",
      "metadata": {
        "id": "JFPHZcI5zTV2"
      },
      "source": [
        "# https://teddylee777.github.io/tensorflow/lstm-stock-forecast\r\n",
        "\r\n",
        "import pandas as pd\r\n",
        "import numpy as np\r\n",
        "import matplotlib.pyplot as plt\r\n",
        "import seaborn as sns\r\n",
        "import warnings\r\n",
        "import os\r\n",
        "\r\n",
        "%matplotlib inline\r\n",
        "warnings.filterwarnings('ignore')\r\n",
        "\r\n",
        "plt.rcParams['font.family'] = 'NanumGothic'"
      ],
      "execution_count": null,
      "outputs": []
    },
    {
      "cell_type": "code",
      "metadata": {
        "colab": {
          "base_uri": "https://localhost:8080/"
        },
        "id": "wKlAl5kWzkeg",
        "outputId": "128d1b44-fa19-4fcd-ac86-6138e2c1e4f1"
      },
      "source": [
        "!pip install finance-datareader"
      ],
      "execution_count": null,
      "outputs": [
        {
          "output_type": "stream",
          "text": [
            "Collecting finance-datareader\n",
            "  Downloading https://files.pythonhosted.org/packages/83/5e/54306e72b5ff5d5ec6cc9f32cdf19602237f9bb70d64efcd527338388be3/finance_datareader-0.9.31-py3-none-any.whl\n",
            "Requirement already satisfied: pandas>=0.19.2 in /usr/local/lib/python3.7/dist-packages (from finance-datareader) (1.1.5)\n",
            "Requirement already satisfied: lxml in /usr/local/lib/python3.7/dist-packages (from finance-datareader) (4.2.6)\n",
            "Collecting requests-file\n",
            "  Downloading https://files.pythonhosted.org/packages/77/86/cdb5e8eaed90796aa83a6d9f75cfbd37af553c47a291cd47bc410ef9bdb2/requests_file-1.5.1-py2.py3-none-any.whl\n",
            "Requirement already satisfied: tqdm in /usr/local/lib/python3.7/dist-packages (from finance-datareader) (4.41.1)\n",
            "Requirement already satisfied: requests>=2.3.0 in /usr/local/lib/python3.7/dist-packages (from finance-datareader) (2.23.0)\n",
            "Requirement already satisfied: numpy>=1.15.4 in /usr/local/lib/python3.7/dist-packages (from pandas>=0.19.2->finance-datareader) (1.19.5)\n",
            "Requirement already satisfied: pytz>=2017.2 in /usr/local/lib/python3.7/dist-packages (from pandas>=0.19.2->finance-datareader) (2018.9)\n",
            "Requirement already satisfied: python-dateutil>=2.7.3 in /usr/local/lib/python3.7/dist-packages (from pandas>=0.19.2->finance-datareader) (2.8.1)\n",
            "Requirement already satisfied: six in /usr/local/lib/python3.7/dist-packages (from requests-file->finance-datareader) (1.15.0)\n",
            "Requirement already satisfied: certifi>=2017.4.17 in /usr/local/lib/python3.7/dist-packages (from requests>=2.3.0->finance-datareader) (2020.12.5)\n",
            "Requirement already satisfied: urllib3!=1.25.0,!=1.25.1,<1.26,>=1.21.1 in /usr/local/lib/python3.7/dist-packages (from requests>=2.3.0->finance-datareader) (1.24.3)\n",
            "Requirement already satisfied: chardet<4,>=3.0.2 in /usr/local/lib/python3.7/dist-packages (from requests>=2.3.0->finance-datareader) (3.0.4)\n",
            "Requirement already satisfied: idna<3,>=2.5 in /usr/local/lib/python3.7/dist-packages (from requests>=2.3.0->finance-datareader) (2.10)\n",
            "Installing collected packages: requests-file, finance-datareader\n",
            "Successfully installed finance-datareader-0.9.31 requests-file-1.5.1\n"
          ],
          "name": "stdout"
        }
      ]
    },
    {
      "cell_type": "code",
      "metadata": {
        "id": "Ss0Z8UxBznqA"
      },
      "source": [
        "import FinanceDataReader as fdr"
      ],
      "execution_count": null,
      "outputs": []
    },
    {
      "cell_type": "code",
      "metadata": {
        "id": "k7sCpR2Nzs5s"
      },
      "source": [
        "# 삼성전자(005930) 전체 (1996-11-05 ~ 현재)\r\n",
        "samsung = fdr.DataReader('005930')"
      ],
      "execution_count": null,
      "outputs": []
    },
    {
      "cell_type": "code",
      "metadata": {
        "colab": {
          "base_uri": "https://localhost:8080/",
          "height": 225
        },
        "id": "INTt0Ye0zxlt",
        "outputId": "5a039d95-2dfd-4f9e-9676-4db30dbdac48"
      },
      "source": [
        "samsung.tail()"
      ],
      "execution_count": null,
      "outputs": [
        {
          "output_type": "execute_result",
          "data": {
            "text/html": [
              "<div>\n",
              "<style scoped>\n",
              "    .dataframe tbody tr th:only-of-type {\n",
              "        vertical-align: middle;\n",
              "    }\n",
              "\n",
              "    .dataframe tbody tr th {\n",
              "        vertical-align: top;\n",
              "    }\n",
              "\n",
              "    .dataframe thead th {\n",
              "        text-align: right;\n",
              "    }\n",
              "</style>\n",
              "<table border=\"1\" class=\"dataframe\">\n",
              "  <thead>\n",
              "    <tr style=\"text-align: right;\">\n",
              "      <th></th>\n",
              "      <th>Open</th>\n",
              "      <th>High</th>\n",
              "      <th>Low</th>\n",
              "      <th>Close</th>\n",
              "      <th>Volume</th>\n",
              "      <th>Change</th>\n",
              "    </tr>\n",
              "    <tr>\n",
              "      <th>Date</th>\n",
              "      <th></th>\n",
              "      <th></th>\n",
              "      <th></th>\n",
              "      <th></th>\n",
              "      <th></th>\n",
              "      <th></th>\n",
              "    </tr>\n",
              "  </thead>\n",
              "  <tbody>\n",
              "    <tr>\n",
              "      <th>2021-02-26</th>\n",
              "      <td>82800</td>\n",
              "      <td>83400</td>\n",
              "      <td>82000</td>\n",
              "      <td>82500</td>\n",
              "      <td>38520800</td>\n",
              "      <td>-0.032825</td>\n",
              "    </tr>\n",
              "    <tr>\n",
              "      <th>2021-03-02</th>\n",
              "      <td>85100</td>\n",
              "      <td>85300</td>\n",
              "      <td>83000</td>\n",
              "      <td>83600</td>\n",
              "      <td>33498180</td>\n",
              "      <td>0.013333</td>\n",
              "    </tr>\n",
              "    <tr>\n",
              "      <th>2021-03-03</th>\n",
              "      <td>83500</td>\n",
              "      <td>84000</td>\n",
              "      <td>82800</td>\n",
              "      <td>84000</td>\n",
              "      <td>19882132</td>\n",
              "      <td>0.004785</td>\n",
              "    </tr>\n",
              "    <tr>\n",
              "      <th>2021-03-04</th>\n",
              "      <td>82600</td>\n",
              "      <td>83200</td>\n",
              "      <td>82200</td>\n",
              "      <td>82400</td>\n",
              "      <td>24348331</td>\n",
              "      <td>-0.019048</td>\n",
              "    </tr>\n",
              "    <tr>\n",
              "      <th>2021-03-05</th>\n",
              "      <td>81100</td>\n",
              "      <td>82600</td>\n",
              "      <td>81100</td>\n",
              "      <td>82100</td>\n",
              "      <td>20352427</td>\n",
              "      <td>-0.003641</td>\n",
              "    </tr>\n",
              "  </tbody>\n",
              "</table>\n",
              "</div>"
            ],
            "text/plain": [
              "             Open   High    Low  Close    Volume    Change\n",
              "Date                                                      \n",
              "2021-02-26  82800  83400  82000  82500  38520800 -0.032825\n",
              "2021-03-02  85100  85300  83000  83600  33498180  0.013333\n",
              "2021-03-03  83500  84000  82800  84000  19882132  0.004785\n",
              "2021-03-04  82600  83200  82200  82400  24348331 -0.019048\n",
              "2021-03-05  81100  82600  81100  82100  20352427 -0.003641"
            ]
          },
          "metadata": {
            "tags": []
          },
          "execution_count": 5
        }
      ]
    },
    {
      "cell_type": "code",
      "metadata": {
        "id": "KF_sFB3cz2nK"
      },
      "source": [
        "# Apple(AAPL), 애플\r\n",
        "apple = fdr.DataReader('AAPL')"
      ],
      "execution_count": null,
      "outputs": []
    },
    {
      "cell_type": "code",
      "metadata": {
        "colab": {
          "base_uri": "https://localhost:8080/",
          "height": 225
        },
        "id": "9ArpLiorz6OR",
        "outputId": "88ff1c37-45fa-468c-f017-998937f1e4b1"
      },
      "source": [
        "apple.tail()"
      ],
      "execution_count": null,
      "outputs": [
        {
          "output_type": "execute_result",
          "data": {
            "text/html": [
              "<div>\n",
              "<style scoped>\n",
              "    .dataframe tbody tr th:only-of-type {\n",
              "        vertical-align: middle;\n",
              "    }\n",
              "\n",
              "    .dataframe tbody tr th {\n",
              "        vertical-align: top;\n",
              "    }\n",
              "\n",
              "    .dataframe thead th {\n",
              "        text-align: right;\n",
              "    }\n",
              "</style>\n",
              "<table border=\"1\" class=\"dataframe\">\n",
              "  <thead>\n",
              "    <tr style=\"text-align: right;\">\n",
              "      <th></th>\n",
              "      <th>Close</th>\n",
              "      <th>Open</th>\n",
              "      <th>High</th>\n",
              "      <th>Low</th>\n",
              "      <th>Volume</th>\n",
              "      <th>Change</th>\n",
              "    </tr>\n",
              "    <tr>\n",
              "      <th>Date</th>\n",
              "      <th></th>\n",
              "      <th></th>\n",
              "      <th></th>\n",
              "      <th></th>\n",
              "      <th></th>\n",
              "      <th></th>\n",
              "    </tr>\n",
              "  </thead>\n",
              "  <tbody>\n",
              "    <tr>\n",
              "      <th>2021-02-26</th>\n",
              "      <td>121.26</td>\n",
              "      <td>122.59</td>\n",
              "      <td>124.85</td>\n",
              "      <td>121.20</td>\n",
              "      <td>164560000.0</td>\n",
              "      <td>0.0022</td>\n",
              "    </tr>\n",
              "    <tr>\n",
              "      <th>2021-03-01</th>\n",
              "      <td>127.79</td>\n",
              "      <td>123.94</td>\n",
              "      <td>127.92</td>\n",
              "      <td>122.83</td>\n",
              "      <td>116310000.0</td>\n",
              "      <td>0.0539</td>\n",
              "    </tr>\n",
              "    <tr>\n",
              "      <th>2021-03-02</th>\n",
              "      <td>125.12</td>\n",
              "      <td>128.59</td>\n",
              "      <td>128.59</td>\n",
              "      <td>125.07</td>\n",
              "      <td>102260000.0</td>\n",
              "      <td>-0.0209</td>\n",
              "    </tr>\n",
              "    <tr>\n",
              "      <th>2021-03-03</th>\n",
              "      <td>122.06</td>\n",
              "      <td>124.74</td>\n",
              "      <td>125.66</td>\n",
              "      <td>121.95</td>\n",
              "      <td>112970000.0</td>\n",
              "      <td>-0.0245</td>\n",
              "    </tr>\n",
              "    <tr>\n",
              "      <th>2021-03-04</th>\n",
              "      <td>120.13</td>\n",
              "      <td>121.90</td>\n",
              "      <td>123.52</td>\n",
              "      <td>118.63</td>\n",
              "      <td>178150000.0</td>\n",
              "      <td>-0.0158</td>\n",
              "    </tr>\n",
              "  </tbody>\n",
              "</table>\n",
              "</div>"
            ],
            "text/plain": [
              "             Close    Open    High     Low       Volume  Change\n",
              "Date                                                           \n",
              "2021-02-26  121.26  122.59  124.85  121.20  164560000.0  0.0022\n",
              "2021-03-01  127.79  123.94  127.92  122.83  116310000.0  0.0539\n",
              "2021-03-02  125.12  128.59  128.59  125.07  102260000.0 -0.0209\n",
              "2021-03-03  122.06  124.74  125.66  121.95  112970000.0 -0.0245\n",
              "2021-03-04  120.13  121.90  123.52  118.63  178150000.0 -0.0158"
            ]
          },
          "metadata": {
            "tags": []
          },
          "execution_count": 7
        }
      ]
    },
    {
      "cell_type": "code",
      "metadata": {
        "id": "a8mOQIhoz-mv"
      },
      "source": [
        "# Apple(AAPL), 애플\r\n",
        "apple = fdr.DataReader('AAPL', '2017')"
      ],
      "execution_count": null,
      "outputs": []
    },
    {
      "cell_type": "code",
      "metadata": {
        "colab": {
          "base_uri": "https://localhost:8080/",
          "height": 225
        },
        "id": "57VDLTKz0ANa",
        "outputId": "9a510306-ddd7-41e5-9be7-75d2398da947"
      },
      "source": [
        "apple.head()"
      ],
      "execution_count": null,
      "outputs": [
        {
          "output_type": "execute_result",
          "data": {
            "text/html": [
              "<div>\n",
              "<style scoped>\n",
              "    .dataframe tbody tr th:only-of-type {\n",
              "        vertical-align: middle;\n",
              "    }\n",
              "\n",
              "    .dataframe tbody tr th {\n",
              "        vertical-align: top;\n",
              "    }\n",
              "\n",
              "    .dataframe thead th {\n",
              "        text-align: right;\n",
              "    }\n",
              "</style>\n",
              "<table border=\"1\" class=\"dataframe\">\n",
              "  <thead>\n",
              "    <tr style=\"text-align: right;\">\n",
              "      <th></th>\n",
              "      <th>Close</th>\n",
              "      <th>Open</th>\n",
              "      <th>High</th>\n",
              "      <th>Low</th>\n",
              "      <th>Volume</th>\n",
              "      <th>Change</th>\n",
              "    </tr>\n",
              "    <tr>\n",
              "      <th>Date</th>\n",
              "      <th></th>\n",
              "      <th></th>\n",
              "      <th></th>\n",
              "      <th></th>\n",
              "      <th></th>\n",
              "      <th></th>\n",
              "    </tr>\n",
              "  </thead>\n",
              "  <tbody>\n",
              "    <tr>\n",
              "      <th>2017-01-03</th>\n",
              "      <td>29.04</td>\n",
              "      <td>28.95</td>\n",
              "      <td>29.08</td>\n",
              "      <td>28.69</td>\n",
              "      <td>115130000.0</td>\n",
              "      <td>0.0031</td>\n",
              "    </tr>\n",
              "    <tr>\n",
              "      <th>2017-01-04</th>\n",
              "      <td>29.00</td>\n",
              "      <td>28.96</td>\n",
              "      <td>29.13</td>\n",
              "      <td>28.94</td>\n",
              "      <td>84470000.0</td>\n",
              "      <td>-0.0014</td>\n",
              "    </tr>\n",
              "    <tr>\n",
              "      <th>2017-01-05</th>\n",
              "      <td>29.15</td>\n",
              "      <td>28.98</td>\n",
              "      <td>29.22</td>\n",
              "      <td>28.95</td>\n",
              "      <td>88770000.0</td>\n",
              "      <td>0.0052</td>\n",
              "    </tr>\n",
              "    <tr>\n",
              "      <th>2017-01-06</th>\n",
              "      <td>29.48</td>\n",
              "      <td>29.20</td>\n",
              "      <td>29.54</td>\n",
              "      <td>29.12</td>\n",
              "      <td>127010000.0</td>\n",
              "      <td>0.0113</td>\n",
              "    </tr>\n",
              "    <tr>\n",
              "      <th>2017-01-09</th>\n",
              "      <td>29.75</td>\n",
              "      <td>29.49</td>\n",
              "      <td>29.86</td>\n",
              "      <td>29.48</td>\n",
              "      <td>134250000.0</td>\n",
              "      <td>0.0092</td>\n",
              "    </tr>\n",
              "  </tbody>\n",
              "</table>\n",
              "</div>"
            ],
            "text/plain": [
              "            Close   Open   High    Low       Volume  Change\n",
              "Date                                                       \n",
              "2017-01-03  29.04  28.95  29.08  28.69  115130000.0  0.0031\n",
              "2017-01-04  29.00  28.96  29.13  28.94   84470000.0 -0.0014\n",
              "2017-01-05  29.15  28.98  29.22  28.95   88770000.0  0.0052\n",
              "2017-01-06  29.48  29.20  29.54  29.12  127010000.0  0.0113\n",
              "2017-01-09  29.75  29.49  29.86  29.48  134250000.0  0.0092"
            ]
          },
          "metadata": {
            "tags": []
          },
          "execution_count": 9
        }
      ]
    },
    {
      "cell_type": "code",
      "metadata": {
        "id": "12s6dGnA0Gw6"
      },
      "source": [
        "# Ford(F), 1980-01-01 ~ 2019-12-30 (40년 데이터)\r\n",
        "ford = fdr.DataReader('F', '1980-01-01', '2019-12-30')"
      ],
      "execution_count": null,
      "outputs": []
    },
    {
      "cell_type": "code",
      "metadata": {
        "colab": {
          "base_uri": "https://localhost:8080/",
          "height": 225
        },
        "id": "ETLUtEEw0MHT",
        "outputId": "20153c55-e32e-4df5-ef45-1628394c3e85"
      },
      "source": [
        "ford.head()"
      ],
      "execution_count": null,
      "outputs": [
        {
          "output_type": "execute_result",
          "data": {
            "text/html": [
              "<div>\n",
              "<style scoped>\n",
              "    .dataframe tbody tr th:only-of-type {\n",
              "        vertical-align: middle;\n",
              "    }\n",
              "\n",
              "    .dataframe tbody tr th {\n",
              "        vertical-align: top;\n",
              "    }\n",
              "\n",
              "    .dataframe thead th {\n",
              "        text-align: right;\n",
              "    }\n",
              "</style>\n",
              "<table border=\"1\" class=\"dataframe\">\n",
              "  <thead>\n",
              "    <tr style=\"text-align: right;\">\n",
              "      <th></th>\n",
              "      <th>Close</th>\n",
              "      <th>Open</th>\n",
              "      <th>High</th>\n",
              "      <th>Low</th>\n",
              "      <th>Volume</th>\n",
              "      <th>Change</th>\n",
              "    </tr>\n",
              "    <tr>\n",
              "      <th>Date</th>\n",
              "      <th></th>\n",
              "      <th></th>\n",
              "      <th></th>\n",
              "      <th></th>\n",
              "      <th></th>\n",
              "      <th></th>\n",
              "    </tr>\n",
              "  </thead>\n",
              "  <tbody>\n",
              "    <tr>\n",
              "      <th>1980-03-18</th>\n",
              "      <td>1.85</td>\n",
              "      <td>1.85</td>\n",
              "      <td>1.88</td>\n",
              "      <td>1.84</td>\n",
              "      <td>3770000.0</td>\n",
              "      <td>-0.0160</td>\n",
              "    </tr>\n",
              "    <tr>\n",
              "      <th>1980-03-19</th>\n",
              "      <td>1.87</td>\n",
              "      <td>1.87</td>\n",
              "      <td>1.88</td>\n",
              "      <td>1.85</td>\n",
              "      <td>1560000.0</td>\n",
              "      <td>0.0108</td>\n",
              "    </tr>\n",
              "    <tr>\n",
              "      <th>1980-03-20</th>\n",
              "      <td>1.88</td>\n",
              "      <td>1.88</td>\n",
              "      <td>1.90</td>\n",
              "      <td>1.87</td>\n",
              "      <td>1450000.0</td>\n",
              "      <td>0.0053</td>\n",
              "    </tr>\n",
              "    <tr>\n",
              "      <th>1980-03-21</th>\n",
              "      <td>1.80</td>\n",
              "      <td>1.80</td>\n",
              "      <td>1.87</td>\n",
              "      <td>1.78</td>\n",
              "      <td>5020000.0</td>\n",
              "      <td>-0.0426</td>\n",
              "    </tr>\n",
              "    <tr>\n",
              "      <th>1980-03-24</th>\n",
              "      <td>1.73</td>\n",
              "      <td>1.73</td>\n",
              "      <td>1.77</td>\n",
              "      <td>1.68</td>\n",
              "      <td>3330000.0</td>\n",
              "      <td>-0.0389</td>\n",
              "    </tr>\n",
              "  </tbody>\n",
              "</table>\n",
              "</div>"
            ],
            "text/plain": [
              "            Close  Open  High   Low     Volume  Change\n",
              "Date                                                  \n",
              "1980-03-18   1.85  1.85  1.88  1.84  3770000.0 -0.0160\n",
              "1980-03-19   1.87  1.87  1.88  1.85  1560000.0  0.0108\n",
              "1980-03-20   1.88  1.88  1.90  1.87  1450000.0  0.0053\n",
              "1980-03-21   1.80  1.80  1.87  1.78  5020000.0 -0.0426\n",
              "1980-03-24   1.73  1.73  1.77  1.68  3330000.0 -0.0389"
            ]
          },
          "metadata": {
            "tags": []
          },
          "execution_count": 11
        }
      ]
    },
    {
      "cell_type": "code",
      "metadata": {
        "colab": {
          "base_uri": "https://localhost:8080/",
          "height": 225
        },
        "id": "AEfirvLc0Pg5",
        "outputId": "d5137b9b-ec13-4275-8814-17fb2d397f1e"
      },
      "source": [
        "ford.tail()"
      ],
      "execution_count": null,
      "outputs": [
        {
          "output_type": "execute_result",
          "data": {
            "text/html": [
              "<div>\n",
              "<style scoped>\n",
              "    .dataframe tbody tr th:only-of-type {\n",
              "        vertical-align: middle;\n",
              "    }\n",
              "\n",
              "    .dataframe tbody tr th {\n",
              "        vertical-align: top;\n",
              "    }\n",
              "\n",
              "    .dataframe thead th {\n",
              "        text-align: right;\n",
              "    }\n",
              "</style>\n",
              "<table border=\"1\" class=\"dataframe\">\n",
              "  <thead>\n",
              "    <tr style=\"text-align: right;\">\n",
              "      <th></th>\n",
              "      <th>Close</th>\n",
              "      <th>Open</th>\n",
              "      <th>High</th>\n",
              "      <th>Low</th>\n",
              "      <th>Volume</th>\n",
              "      <th>Change</th>\n",
              "    </tr>\n",
              "    <tr>\n",
              "      <th>Date</th>\n",
              "      <th></th>\n",
              "      <th></th>\n",
              "      <th></th>\n",
              "      <th></th>\n",
              "      <th></th>\n",
              "      <th></th>\n",
              "    </tr>\n",
              "  </thead>\n",
              "  <tbody>\n",
              "    <tr>\n",
              "      <th>2019-12-23</th>\n",
              "      <td>9.44</td>\n",
              "      <td>9.50</td>\n",
              "      <td>9.57</td>\n",
              "      <td>9.40</td>\n",
              "      <td>54800000.0</td>\n",
              "      <td>-0.0042</td>\n",
              "    </tr>\n",
              "    <tr>\n",
              "      <th>2019-12-24</th>\n",
              "      <td>9.47</td>\n",
              "      <td>9.44</td>\n",
              "      <td>9.49</td>\n",
              "      <td>9.43</td>\n",
              "      <td>11880000.0</td>\n",
              "      <td>0.0032</td>\n",
              "    </tr>\n",
              "    <tr>\n",
              "      <th>2019-12-26</th>\n",
              "      <td>9.45</td>\n",
              "      <td>9.47</td>\n",
              "      <td>9.49</td>\n",
              "      <td>9.43</td>\n",
              "      <td>28980000.0</td>\n",
              "      <td>-0.0021</td>\n",
              "    </tr>\n",
              "    <tr>\n",
              "      <th>2019-12-27</th>\n",
              "      <td>9.36</td>\n",
              "      <td>9.45</td>\n",
              "      <td>9.46</td>\n",
              "      <td>9.35</td>\n",
              "      <td>28270000.0</td>\n",
              "      <td>-0.0095</td>\n",
              "    </tr>\n",
              "    <tr>\n",
              "      <th>2019-12-30</th>\n",
              "      <td>9.25</td>\n",
              "      <td>9.34</td>\n",
              "      <td>9.35</td>\n",
              "      <td>9.23</td>\n",
              "      <td>36090000.0</td>\n",
              "      <td>-0.0118</td>\n",
              "    </tr>\n",
              "  </tbody>\n",
              "</table>\n",
              "</div>"
            ],
            "text/plain": [
              "            Close  Open  High   Low      Volume  Change\n",
              "Date                                                   \n",
              "2019-12-23   9.44  9.50  9.57  9.40  54800000.0 -0.0042\n",
              "2019-12-24   9.47  9.44  9.49  9.43  11880000.0  0.0032\n",
              "2019-12-26   9.45  9.47  9.49  9.43  28980000.0 -0.0021\n",
              "2019-12-27   9.36  9.45  9.46  9.35  28270000.0 -0.0095\n",
              "2019-12-30   9.25  9.34  9.35  9.23  36090000.0 -0.0118"
            ]
          },
          "metadata": {
            "tags": []
          },
          "execution_count": 12
        }
      ]
    },
    {
      "cell_type": "code",
      "metadata": {
        "id": "iSX_YSY10UA5"
      },
      "source": [
        "# 삼성전자 주식코드: 005930\r\n",
        "STOCK_CODE = '005930'"
      ],
      "execution_count": null,
      "outputs": []
    },
    {
      "cell_type": "code",
      "metadata": {
        "id": "wpgbJ3_y0VuE"
      },
      "source": [
        "stock = fdr.DataReader(STOCK_CODE)"
      ],
      "execution_count": null,
      "outputs": []
    },
    {
      "cell_type": "code",
      "metadata": {
        "colab": {
          "base_uri": "https://localhost:8080/",
          "height": 225
        },
        "id": "Q1cgqKN30YDf",
        "outputId": "50809ca1-5437-4d6d-cf04-133c6f12780c"
      },
      "source": [
        "stock.head()"
      ],
      "execution_count": null,
      "outputs": [
        {
          "output_type": "execute_result",
          "data": {
            "text/html": [
              "<div>\n",
              "<style scoped>\n",
              "    .dataframe tbody tr th:only-of-type {\n",
              "        vertical-align: middle;\n",
              "    }\n",
              "\n",
              "    .dataframe tbody tr th {\n",
              "        vertical-align: top;\n",
              "    }\n",
              "\n",
              "    .dataframe thead th {\n",
              "        text-align: right;\n",
              "    }\n",
              "</style>\n",
              "<table border=\"1\" class=\"dataframe\">\n",
              "  <thead>\n",
              "    <tr style=\"text-align: right;\">\n",
              "      <th></th>\n",
              "      <th>Open</th>\n",
              "      <th>High</th>\n",
              "      <th>Low</th>\n",
              "      <th>Close</th>\n",
              "      <th>Volume</th>\n",
              "      <th>Change</th>\n",
              "    </tr>\n",
              "    <tr>\n",
              "      <th>Date</th>\n",
              "      <th></th>\n",
              "      <th></th>\n",
              "      <th></th>\n",
              "      <th></th>\n",
              "      <th></th>\n",
              "      <th></th>\n",
              "    </tr>\n",
              "  </thead>\n",
              "  <tbody>\n",
              "    <tr>\n",
              "      <th>1997-03-17</th>\n",
              "      <td>971</td>\n",
              "      <td>978</td>\n",
              "      <td>951</td>\n",
              "      <td>978</td>\n",
              "      <td>64070</td>\n",
              "      <td>NaN</td>\n",
              "    </tr>\n",
              "    <tr>\n",
              "      <th>1997-03-18</th>\n",
              "      <td>987</td>\n",
              "      <td>996</td>\n",
              "      <td>972</td>\n",
              "      <td>996</td>\n",
              "      <td>99602</td>\n",
              "      <td>0.018405</td>\n",
              "    </tr>\n",
              "    <tr>\n",
              "      <th>1997-03-19</th>\n",
              "      <td>987</td>\n",
              "      <td>988</td>\n",
              "      <td>960</td>\n",
              "      <td>987</td>\n",
              "      <td>56270</td>\n",
              "      <td>-0.009036</td>\n",
              "    </tr>\n",
              "    <tr>\n",
              "      <th>1997-03-20</th>\n",
              "      <td>978</td>\n",
              "      <td>1013</td>\n",
              "      <td>964</td>\n",
              "      <td>1007</td>\n",
              "      <td>116630</td>\n",
              "      <td>0.020263</td>\n",
              "    </tr>\n",
              "    <tr>\n",
              "      <th>1997-03-21</th>\n",
              "      <td>988</td>\n",
              "      <td>1004</td>\n",
              "      <td>980</td>\n",
              "      <td>993</td>\n",
              "      <td>95580</td>\n",
              "      <td>-0.013903</td>\n",
              "    </tr>\n",
              "  </tbody>\n",
              "</table>\n",
              "</div>"
            ],
            "text/plain": [
              "            Open  High  Low  Close  Volume    Change\n",
              "Date                                                \n",
              "1997-03-17   971   978  951    978   64070       NaN\n",
              "1997-03-18   987   996  972    996   99602  0.018405\n",
              "1997-03-19   987   988  960    987   56270 -0.009036\n",
              "1997-03-20   978  1013  964   1007  116630  0.020263\n",
              "1997-03-21   988  1004  980    993   95580 -0.013903"
            ]
          },
          "metadata": {
            "tags": []
          },
          "execution_count": 15
        }
      ]
    },
    {
      "cell_type": "code",
      "metadata": {
        "colab": {
          "base_uri": "https://localhost:8080/",
          "height": 225
        },
        "id": "G8MN-wf50bv7",
        "outputId": "46e36914-3e65-4f5c-eb7a-4bf6d37f22e3"
      },
      "source": [
        "stock.tail()"
      ],
      "execution_count": null,
      "outputs": [
        {
          "output_type": "execute_result",
          "data": {
            "text/html": [
              "<div>\n",
              "<style scoped>\n",
              "    .dataframe tbody tr th:only-of-type {\n",
              "        vertical-align: middle;\n",
              "    }\n",
              "\n",
              "    .dataframe tbody tr th {\n",
              "        vertical-align: top;\n",
              "    }\n",
              "\n",
              "    .dataframe thead th {\n",
              "        text-align: right;\n",
              "    }\n",
              "</style>\n",
              "<table border=\"1\" class=\"dataframe\">\n",
              "  <thead>\n",
              "    <tr style=\"text-align: right;\">\n",
              "      <th></th>\n",
              "      <th>Open</th>\n",
              "      <th>High</th>\n",
              "      <th>Low</th>\n",
              "      <th>Close</th>\n",
              "      <th>Volume</th>\n",
              "      <th>Change</th>\n",
              "    </tr>\n",
              "    <tr>\n",
              "      <th>Date</th>\n",
              "      <th></th>\n",
              "      <th></th>\n",
              "      <th></th>\n",
              "      <th></th>\n",
              "      <th></th>\n",
              "      <th></th>\n",
              "    </tr>\n",
              "  </thead>\n",
              "  <tbody>\n",
              "    <tr>\n",
              "      <th>2021-02-26</th>\n",
              "      <td>82800</td>\n",
              "      <td>83400</td>\n",
              "      <td>82000</td>\n",
              "      <td>82500</td>\n",
              "      <td>38520800</td>\n",
              "      <td>-0.032825</td>\n",
              "    </tr>\n",
              "    <tr>\n",
              "      <th>2021-03-02</th>\n",
              "      <td>85100</td>\n",
              "      <td>85300</td>\n",
              "      <td>83000</td>\n",
              "      <td>83600</td>\n",
              "      <td>33498180</td>\n",
              "      <td>0.013333</td>\n",
              "    </tr>\n",
              "    <tr>\n",
              "      <th>2021-03-03</th>\n",
              "      <td>83500</td>\n",
              "      <td>84000</td>\n",
              "      <td>82800</td>\n",
              "      <td>84000</td>\n",
              "      <td>19882132</td>\n",
              "      <td>0.004785</td>\n",
              "    </tr>\n",
              "    <tr>\n",
              "      <th>2021-03-04</th>\n",
              "      <td>82600</td>\n",
              "      <td>83200</td>\n",
              "      <td>82200</td>\n",
              "      <td>82400</td>\n",
              "      <td>24348331</td>\n",
              "      <td>-0.019048</td>\n",
              "    </tr>\n",
              "    <tr>\n",
              "      <th>2021-03-05</th>\n",
              "      <td>81100</td>\n",
              "      <td>82600</td>\n",
              "      <td>81100</td>\n",
              "      <td>82100</td>\n",
              "      <td>20352427</td>\n",
              "      <td>-0.003641</td>\n",
              "    </tr>\n",
              "  </tbody>\n",
              "</table>\n",
              "</div>"
            ],
            "text/plain": [
              "             Open   High    Low  Close    Volume    Change\n",
              "Date                                                      \n",
              "2021-02-26  82800  83400  82000  82500  38520800 -0.032825\n",
              "2021-03-02  85100  85300  83000  83600  33498180  0.013333\n",
              "2021-03-03  83500  84000  82800  84000  19882132  0.004785\n",
              "2021-03-04  82600  83200  82200  82400  24348331 -0.019048\n",
              "2021-03-05  81100  82600  81100  82100  20352427 -0.003641"
            ]
          },
          "metadata": {
            "tags": []
          },
          "execution_count": 16
        }
      ]
    },
    {
      "cell_type": "code",
      "metadata": {
        "colab": {
          "base_uri": "https://localhost:8080/"
        },
        "id": "APecxxA90ggM",
        "outputId": "33c695cc-2f0d-412a-d7f1-5566d6a14253"
      },
      "source": [
        "stock.index"
      ],
      "execution_count": null,
      "outputs": [
        {
          "output_type": "execute_result",
          "data": {
            "text/plain": [
              "DatetimeIndex(['1997-03-17', '1997-03-18', '1997-03-19', '1997-03-20',\n",
              "               '1997-03-21', '1997-03-22', '1997-03-24', '1997-03-25',\n",
              "               '1997-03-26', '1997-03-27',\n",
              "               ...\n",
              "               '2021-02-19', '2021-02-22', '2021-02-23', '2021-02-24',\n",
              "               '2021-02-25', '2021-02-26', '2021-03-02', '2021-03-03',\n",
              "               '2021-03-04', '2021-03-05'],\n",
              "              dtype='datetime64[ns]', name='Date', length=6000, freq=None)"
            ]
          },
          "metadata": {
            "tags": []
          },
          "execution_count": 17
        }
      ]
    },
    {
      "cell_type": "code",
      "metadata": {
        "id": "XfgFqLmc0kay"
      },
      "source": [
        "stock['Year'] = stock.index.year\r\n",
        "stock['Month'] = stock.index.month\r\n",
        "stock['Day'] = stock.index.day"
      ],
      "execution_count": null,
      "outputs": []
    },
    {
      "cell_type": "code",
      "metadata": {
        "colab": {
          "base_uri": "https://localhost:8080/",
          "height": 225
        },
        "id": "WOMi0j1D0mm5",
        "outputId": "40282a9e-6737-4ea3-cf47-784d0e627e2c"
      },
      "source": [
        "stock.head()"
      ],
      "execution_count": null,
      "outputs": [
        {
          "output_type": "execute_result",
          "data": {
            "text/html": [
              "<div>\n",
              "<style scoped>\n",
              "    .dataframe tbody tr th:only-of-type {\n",
              "        vertical-align: middle;\n",
              "    }\n",
              "\n",
              "    .dataframe tbody tr th {\n",
              "        vertical-align: top;\n",
              "    }\n",
              "\n",
              "    .dataframe thead th {\n",
              "        text-align: right;\n",
              "    }\n",
              "</style>\n",
              "<table border=\"1\" class=\"dataframe\">\n",
              "  <thead>\n",
              "    <tr style=\"text-align: right;\">\n",
              "      <th></th>\n",
              "      <th>Open</th>\n",
              "      <th>High</th>\n",
              "      <th>Low</th>\n",
              "      <th>Close</th>\n",
              "      <th>Volume</th>\n",
              "      <th>Change</th>\n",
              "      <th>Year</th>\n",
              "      <th>Month</th>\n",
              "      <th>Day</th>\n",
              "    </tr>\n",
              "    <tr>\n",
              "      <th>Date</th>\n",
              "      <th></th>\n",
              "      <th></th>\n",
              "      <th></th>\n",
              "      <th></th>\n",
              "      <th></th>\n",
              "      <th></th>\n",
              "      <th></th>\n",
              "      <th></th>\n",
              "      <th></th>\n",
              "    </tr>\n",
              "  </thead>\n",
              "  <tbody>\n",
              "    <tr>\n",
              "      <th>1997-03-17</th>\n",
              "      <td>971</td>\n",
              "      <td>978</td>\n",
              "      <td>951</td>\n",
              "      <td>978</td>\n",
              "      <td>64070</td>\n",
              "      <td>NaN</td>\n",
              "      <td>1997</td>\n",
              "      <td>3</td>\n",
              "      <td>17</td>\n",
              "    </tr>\n",
              "    <tr>\n",
              "      <th>1997-03-18</th>\n",
              "      <td>987</td>\n",
              "      <td>996</td>\n",
              "      <td>972</td>\n",
              "      <td>996</td>\n",
              "      <td>99602</td>\n",
              "      <td>0.018405</td>\n",
              "      <td>1997</td>\n",
              "      <td>3</td>\n",
              "      <td>18</td>\n",
              "    </tr>\n",
              "    <tr>\n",
              "      <th>1997-03-19</th>\n",
              "      <td>987</td>\n",
              "      <td>988</td>\n",
              "      <td>960</td>\n",
              "      <td>987</td>\n",
              "      <td>56270</td>\n",
              "      <td>-0.009036</td>\n",
              "      <td>1997</td>\n",
              "      <td>3</td>\n",
              "      <td>19</td>\n",
              "    </tr>\n",
              "    <tr>\n",
              "      <th>1997-03-20</th>\n",
              "      <td>978</td>\n",
              "      <td>1013</td>\n",
              "      <td>964</td>\n",
              "      <td>1007</td>\n",
              "      <td>116630</td>\n",
              "      <td>0.020263</td>\n",
              "      <td>1997</td>\n",
              "      <td>3</td>\n",
              "      <td>20</td>\n",
              "    </tr>\n",
              "    <tr>\n",
              "      <th>1997-03-21</th>\n",
              "      <td>988</td>\n",
              "      <td>1004</td>\n",
              "      <td>980</td>\n",
              "      <td>993</td>\n",
              "      <td>95580</td>\n",
              "      <td>-0.013903</td>\n",
              "      <td>1997</td>\n",
              "      <td>3</td>\n",
              "      <td>21</td>\n",
              "    </tr>\n",
              "  </tbody>\n",
              "</table>\n",
              "</div>"
            ],
            "text/plain": [
              "            Open  High  Low  Close  Volume    Change  Year  Month  Day\n",
              "Date                                                                  \n",
              "1997-03-17   971   978  951    978   64070       NaN  1997      3   17\n",
              "1997-03-18   987   996  972    996   99602  0.018405  1997      3   18\n",
              "1997-03-19   987   988  960    987   56270 -0.009036  1997      3   19\n",
              "1997-03-20   978  1013  964   1007  116630  0.020263  1997      3   20\n",
              "1997-03-21   988  1004  980    993   95580 -0.013903  1997      3   21"
            ]
          },
          "metadata": {
            "tags": []
          },
          "execution_count": 19
        }
      ]
    },
    {
      "cell_type": "code",
      "metadata": {
        "colab": {
          "base_uri": "https://localhost:8080/",
          "height": 569
        },
        "id": "nhP1_utJ0s84",
        "outputId": "779d5ade-ae1f-4c60-e282-df4378ad83a1"
      },
      "source": [
        "plt.figure(figsize=(16, 9))\r\n",
        "sns.lineplot(y=stock['Close'], x=stock.index)\r\n",
        "plt.xlabel('time')\r\n",
        "plt.ylabel('price')"
      ],
      "execution_count": null,
      "outputs": [
        {
          "output_type": "execute_result",
          "data": {
            "text/plain": [
              "Text(0, 0.5, 'price')"
            ]
          },
          "metadata": {
            "tags": []
          },
          "execution_count": 20
        },
        {
          "output_type": "stream",
          "text": [
            "findfont: Font family ['NanumGothic'] not found. Falling back to DejaVu Sans.\n"
          ],
          "name": "stderr"
        },
        {
          "output_type": "display_data",
          "data": {
            "image/png": "[encoded data removed]",
            "text/plain": [
              "<Figure size 1152x648 with 1 Axes>"
            ]
          },
          "metadata": {
            "tags": [],
            "needs_background": "light"
          }
        }
      ]
    },
    {
      "cell_type": "code",
      "metadata": {
        "colab": {
          "base_uri": "https://localhost:8080/",
          "height": 674
        },
        "id": "XJvnstLq094Z",
        "outputId": "92712c60-4a65-4a33-c8ea-3d37cb38adc3"
      },
      "source": [
        "time_steps = [['1990', '2000'], \r\n",
        "              ['2000', '2010'], \r\n",
        "              ['2010', '2015'], \r\n",
        "              ['2015', '2020']]\r\n",
        "\r\n",
        "fig, axes = plt.subplots(2, 2)\r\n",
        "fig.set_size_inches(16, 9)\r\n",
        "for i in range(4):\r\n",
        "    ax = axes[i//2, i%2]\r\n",
        "    df = stock.loc[(stock.index > time_steps[i][0]) & (stock.index < time_steps[i][1])]\r\n",
        "    sns.lineplot(y=df['Close'], x=df.index, ax=ax)\r\n",
        "    ax.set_title(f'{time_steps[i][0]}~{time_steps[i][1]}')\r\n",
        "    ax.set_xlabel('time')\r\n",
        "    ax.set_ylabel('price')\r\n",
        "plt.tight_layout()\r\n",
        "plt.show()"
      ],
      "execution_count": null,
      "outputs": [
        {
          "output_type": "stream",
          "text": [
            "findfont: Font family ['NanumGothic'] not found. Falling back to DejaVu Sans.\n"
          ],
          "name": "stderr"
        },
        {
          "output_type": "display_data",
          "data": {
            "image/png": "[encoded data removed]",
            "text/plain": [
              "<Figure size 1152x648 with 4 Axes>"
            ]
          },
          "metadata": {
            "tags": [],
            "needs_background": "light"
          }
        }
      ]
    },
    {
      "cell_type": "code",
      "metadata": {
        "colab": {
          "base_uri": "https://localhost:8080/"
        },
        "id": "ocDu1a_51DIK",
        "outputId": "13151a1c-499b-4abe-c4e8-b48d0353be99"
      },
      "source": [
        "from sklearn.preprocessing import MinMaxScaler\r\n",
        "\r\n",
        "scaler = MinMaxScaler()\r\n",
        "# 스케일을 적용할 column을 정의합니다.\r\n",
        "scale_cols = ['Open', 'High', 'Low', 'Close', 'Volume']\r\n",
        "# 스케일 후 columns\r\n",
        "scaled = scaler.fit_transform(stock[scale_cols])\r\n",
        "scaled"
      ],
      "execution_count": null,
      "outputs": [
        {
          "output_type": "execute_result",
          "data": {
            "text/plain": [
              "array([[1.07530454e-02, 1.01033058e-02, 1.06256983e-02, 3.88390338e-03,\n",
              "        7.09475278e-04],\n",
              "       [1.09302326e-02, 1.02892562e-02, 1.08603352e-02, 4.08307791e-03,\n",
              "        1.10293673e-03],\n",
              "       [1.09302326e-02, 1.02066116e-02, 1.07262570e-02, 3.98349064e-03,\n",
              "        6.23102448e-04],\n",
              "       ...,\n",
              "       [9.24695460e-01, 8.67768595e-01, 9.25139665e-01, 9.22543237e-01,\n",
              "        2.20163589e-01],\n",
              "       [9.14728682e-01, 8.59504132e-01, 9.18435754e-01, 9.04838835e-01,\n",
              "        2.69619774e-01],\n",
              "       [8.98117386e-01, 8.53305785e-01, 9.06145251e-01, 9.01519259e-01,\n",
              "        2.25371372e-01]])"
            ]
          },
          "metadata": {
            "tags": []
          },
          "execution_count": 22
        }
      ]
    },
    {
      "cell_type": "code",
      "metadata": {
        "id": "fk0w2aGF1Ktk"
      },
      "source": [
        "df = pd.DataFrame(scaled, columns=scale_cols)"
      ],
      "execution_count": null,
      "outputs": []
    },
    {
      "cell_type": "code",
      "metadata": {
        "id": "gVeaSGbV1QYy"
      },
      "source": [
        "from sklearn.model_selection import train_test_split"
      ],
      "execution_count": null,
      "outputs": []
    },
    {
      "cell_type": "code",
      "metadata": {
        "id": "CvXepBR01V0l"
      },
      "source": [
        "x_train, x_test, y_train, y_test = train_test_split(df.drop('Close', 1), df['Close'], test_size=0.2, random_state=0, shuffle=False)"
      ],
      "execution_count": null,
      "outputs": []
    },
    {
      "cell_type": "code",
      "metadata": {
        "colab": {
          "base_uri": "https://localhost:8080/"
        },
        "id": "qctDWEcR1Y-j",
        "outputId": "8cc0a92e-925a-4d4a-e6fa-bedc51669dcc"
      },
      "source": [
        "x_train.shape, y_train.shape"
      ],
      "execution_count": null,
      "outputs": [
        {
          "output_type": "execute_result",
          "data": {
            "text/plain": [
              "((4800, 4), (4800,))"
            ]
          },
          "metadata": {
            "tags": []
          },
          "execution_count": 26
        }
      ]
    },
    {
      "cell_type": "code",
      "metadata": {
        "colab": {
          "base_uri": "https://localhost:8080/"
        },
        "id": "hor6lON51ePd",
        "outputId": "5de23d2e-4ba4-4fb3-f74d-8ceba3799397"
      },
      "source": [
        "x_test.shape, y_test.shape"
      ],
      "execution_count": null,
      "outputs": [
        {
          "output_type": "execute_result",
          "data": {
            "text/plain": [
              "((1200, 4), (1200,))"
            ]
          },
          "metadata": {
            "tags": []
          },
          "execution_count": 27
        }
      ]
    },
    {
      "cell_type": "code",
      "metadata": {
        "colab": {
          "base_uri": "https://localhost:8080/",
          "height": 402
        },
        "id": "Fp18nWpl1gxi",
        "outputId": "55044ec5-f805-49f1-d2f6-1691df023ef3"
      },
      "source": [
        "x_train"
      ],
      "execution_count": null,
      "outputs": [
        {
          "output_type": "execute_result",
          "data": {
            "text/html": [
              "<div>\n",
              "<style scoped>\n",
              "    .dataframe tbody tr th:only-of-type {\n",
              "        vertical-align: middle;\n",
              "    }\n",
              "\n",
              "    .dataframe tbody tr th {\n",
              "        vertical-align: top;\n",
              "    }\n",
              "\n",
              "    .dataframe thead th {\n",
              "        text-align: right;\n",
              "    }\n",
              "</style>\n",
              "<table border=\"1\" class=\"dataframe\">\n",
              "  <thead>\n",
              "    <tr style=\"text-align: right;\">\n",
              "      <th></th>\n",
              "      <th>Open</th>\n",
              "      <th>High</th>\n",
              "      <th>Low</th>\n",
              "      <th>Volume</th>\n",
              "    </tr>\n",
              "  </thead>\n",
              "  <tbody>\n",
              "    <tr>\n",
              "      <th>0</th>\n",
              "      <td>0.010753</td>\n",
              "      <td>0.010103</td>\n",
              "      <td>0.010626</td>\n",
              "      <td>0.000709</td>\n",
              "    </tr>\n",
              "    <tr>\n",
              "      <th>1</th>\n",
              "      <td>0.010930</td>\n",
              "      <td>0.010289</td>\n",
              "      <td>0.010860</td>\n",
              "      <td>0.001103</td>\n",
              "    </tr>\n",
              "    <tr>\n",
              "      <th>2</th>\n",
              "      <td>0.010930</td>\n",
              "      <td>0.010207</td>\n",
              "      <td>0.010726</td>\n",
              "      <td>0.000623</td>\n",
              "    </tr>\n",
              "    <tr>\n",
              "      <th>3</th>\n",
              "      <td>0.010831</td>\n",
              "      <td>0.010465</td>\n",
              "      <td>0.010771</td>\n",
              "      <td>0.001291</td>\n",
              "    </tr>\n",
              "    <tr>\n",
              "      <th>4</th>\n",
              "      <td>0.010941</td>\n",
              "      <td>0.010372</td>\n",
              "      <td>0.010950</td>\n",
              "      <td>0.001058</td>\n",
              "    </tr>\n",
              "    <tr>\n",
              "      <th>...</th>\n",
              "      <td>...</td>\n",
              "      <td>...</td>\n",
              "      <td>...</td>\n",
              "      <td>...</td>\n",
              "    </tr>\n",
              "    <tr>\n",
              "      <th>4795</th>\n",
              "      <td>0.287929</td>\n",
              "      <td>0.268595</td>\n",
              "      <td>0.281117</td>\n",
              "      <td>0.002866</td>\n",
              "    </tr>\n",
              "    <tr>\n",
              "      <th>4796</th>\n",
              "      <td>0.281063</td>\n",
              "      <td>0.262190</td>\n",
              "      <td>0.277095</td>\n",
              "      <td>0.002789</td>\n",
              "    </tr>\n",
              "    <tr>\n",
              "      <th>4797</th>\n",
              "      <td>0.275969</td>\n",
              "      <td>0.262603</td>\n",
              "      <td>0.278436</td>\n",
              "      <td>0.001336</td>\n",
              "    </tr>\n",
              "    <tr>\n",
              "      <th>4798</th>\n",
              "      <td>0.281285</td>\n",
              "      <td>0.264669</td>\n",
              "      <td>0.282905</td>\n",
              "      <td>0.001484</td>\n",
              "    </tr>\n",
              "    <tr>\n",
              "      <th>4799</th>\n",
              "      <td>0.287929</td>\n",
              "      <td>0.269008</td>\n",
              "      <td>0.288045</td>\n",
              "      <td>0.003713</td>\n",
              "    </tr>\n",
              "  </tbody>\n",
              "</table>\n",
              "<p>4800 rows × 4 columns</p>\n",
              "</div>"
            ],
            "text/plain": [
              "          Open      High       Low    Volume\n",
              "0     0.010753  0.010103  0.010626  0.000709\n",
              "1     0.010930  0.010289  0.010860  0.001103\n",
              "2     0.010930  0.010207  0.010726  0.000623\n",
              "3     0.010831  0.010465  0.010771  0.001291\n",
              "4     0.010941  0.010372  0.010950  0.001058\n",
              "...        ...       ...       ...       ...\n",
              "4795  0.287929  0.268595  0.281117  0.002866\n",
              "4796  0.281063  0.262190  0.277095  0.002789\n",
              "4797  0.275969  0.262603  0.278436  0.001336\n",
              "4798  0.281285  0.264669  0.282905  0.001484\n",
              "4799  0.287929  0.269008  0.288045  0.003713\n",
              "\n",
              "[4800 rows x 4 columns]"
            ]
          },
          "metadata": {
            "tags": []
          },
          "execution_count": 28
        }
      ]
    },
    {
      "cell_type": "code",
      "metadata": {
        "id": "kEyRxB5J1msL"
      },
      "source": [
        "import tensorflow as tf"
      ],
      "execution_count": null,
      "outputs": []
    },
    {
      "cell_type": "code",
      "metadata": {
        "id": "rj6P7y921q_Y"
      },
      "source": [
        "def windowed_dataset(series, window_size, batch_size, shuffle):\r\n",
        "    series = tf.expand_dims(series, axis=-1)\r\n",
        "    ds = tf.data.Dataset.from_tensor_slices(series)\r\n",
        "    ds = ds.window(window_size + 1, shift=1, drop_remainder=True)\r\n",
        "    ds = ds.flat_map(lambda w: w.batch(window_size + 1))\r\n",
        "    if shuffle:\r\n",
        "        ds = ds.shuffle(1000)\r\n",
        "    ds = ds.map(lambda w: (w[:-1], w[-1]))\r\n",
        "    return ds.batch(batch_size).prefetch(1)"
      ],
      "execution_count": null,
      "outputs": []
    },
    {
      "cell_type": "code",
      "metadata": {
        "id": "aHGlPB5P1trq"
      },
      "source": [
        "WINDOW_SIZE=20\r\n",
        "BATCH_SIZE=32"
      ],
      "execution_count": null,
      "outputs": []
    },
    {
      "cell_type": "code",
      "metadata": {
        "id": "BGeFQp2N1xKy"
      },
      "source": [
        "# trian_data는 학습용 데이터셋, test_data는 검증용 데이터셋 입니다.\r\n",
        "train_data = windowed_dataset(y_train, WINDOW_SIZE, BATCH_SIZE, True)\r\n",
        "test_data = windowed_dataset(y_test, WINDOW_SIZE, BATCH_SIZE, False)"
      ],
      "execution_count": null,
      "outputs": []
    },
    {
      "cell_type": "code",
      "metadata": {
        "colab": {
          "base_uri": "https://localhost:8080/"
        },
        "id": "EbnaSF4610jb",
        "outputId": "03f81934-2856-4c35-8475-c7da438ab61c"
      },
      "source": [
        "# 아래의 코드로 데이터셋의 구성을 확인해 볼 수 있습니다.\r\n",
        "# X: (batch_size, window_size, feature)\r\n",
        "# Y: (batch_size, feature)\r\n",
        "for data in train_data.take(1):\r\n",
        "    print(f'데이터셋(X) 구성(batch_size, window_size, feature갯수): {data[0].shape}')\r\n",
        "    print(f'데이터셋(Y) 구성(batch_size, window_size, feature갯수): {data[1].shape}')"
      ],
      "execution_count": null,
      "outputs": [
        {
          "output_type": "stream",
          "text": [
            "데이터셋(X) 구성(batch_size, window_size, feature갯수): (32, 20, 1)\n",
            "데이터셋(Y) 구성(batch_size, window_size, feature갯수): (32, 1)\n"
          ],
          "name": "stdout"
        }
      ]
    },
    {
      "cell_type": "code",
      "metadata": {
        "id": "TVJw9b0w14Ig"
      },
      "source": [
        "from tensorflow.keras.models import Sequential\r\n",
        "from tensorflow.keras.layers import Dense, LSTM, Conv1D, Lambda\r\n",
        "from tensorflow.keras.losses import Huber\r\n",
        "from tensorflow.keras.optimizers import Adam\r\n",
        "from tensorflow.keras.callbacks import EarlyStopping, ModelCheckpoint\r\n",
        "\r\n",
        "\r\n",
        "model = Sequential([\r\n",
        "    # 1차원 feature map 생성\r\n",
        "    Conv1D(filters=32, kernel_size=5,\r\n",
        "           padding=\"causal\",\r\n",
        "           activation=\"relu\",\r\n",
        "           input_shape=[WINDOW_SIZE, 1]),\r\n",
        "    # LSTM\r\n",
        "    LSTM(16, activation='tanh'),\r\n",
        "    Dense(16, activation=\"relu\"),\r\n",
        "    Dense(1),\r\n",
        "])"
      ],
      "execution_count": null,
      "outputs": []
    },
    {
      "cell_type": "code",
      "metadata": {
        "id": "f42QU6eZ17hz"
      },
      "source": [
        "# Sequence 학습에 비교적 좋은 퍼포먼스를 내는 Huber()를 사용합니다.\r\n",
        "loss = Huber()\r\n",
        "optimizer = Adam(0.0005)\r\n",
        "model.compile(loss=Huber(), optimizer=optimizer, metrics=['mse'])"
      ],
      "execution_count": null,
      "outputs": []
    },
    {
      "cell_type": "code",
      "metadata": {
        "id": "U7a2hi1j2Atb"
      },
      "source": [
        "# earlystopping은 10번 epoch통안 val_loss 개선이 없다면 학습을 멈춥니다.\r\n",
        "earlystopping = EarlyStopping(monitor='val_loss', patience=10)\r\n",
        "# val_loss 기준 체크포인터도 생성합니다.\r\n",
        "filename = os.path.join('tmp', 'ckeckpointer.ckpt')\r\n",
        "checkpoint = ModelCheckpoint(filename, \r\n",
        "                             save_weights_only=True, \r\n",
        "                             save_best_only=True, \r\n",
        "                             monitor='val_loss', \r\n",
        "                             verbose=1)"
      ],
      "execution_count": null,
      "outputs": []
    },
    {
      "cell_type": "code",
      "metadata": {
        "colab": {
          "base_uri": "https://localhost:8080/"
        },
        "id": "gGCI4MW62D9Y",
        "outputId": "bd1f6733-7dad-4c2e-e6d9-fcb0567d4800"
      },
      "source": [
        "history = model.fit(train_data, \r\n",
        "                    validation_data=(test_data), \r\n",
        "                    epochs=50, \r\n",
        "                    callbacks=[checkpoint, earlystopping])"
      ],
      "execution_count": null,
      "outputs": [
        {
          "output_type": "stream",
          "text": [
            "Epoch 1/50\n",
            "150/150 [==============================] - 35s 11ms/step - loss: 4.7834e-05 - mse: 9.5668e-05 - val_loss: 0.0018 - val_mse: 0.0035\n",
            "\n",
            "Epoch 00001: val_loss improved from inf to 0.00177, saving model to tmp/ckeckpointer.ckpt\n",
            "Epoch 2/50\n",
            "150/150 [==============================] - 1s 7ms/step - loss: 1.1073e-05 - mse: 2.2146e-05 - val_loss: 0.0020 - val_mse: 0.0041\n",
            "\n",
            "Epoch 00002: val_loss did not improve from 0.00177\n",
            "Epoch 3/50\n",
            "150/150 [==============================] - 1s 6ms/step - loss: 1.0059e-05 - mse: 2.0119e-05 - val_loss: 0.0019 - val_mse: 0.0037\n",
            "\n",
            "Epoch 00003: val_loss did not improve from 0.00177\n",
            "Epoch 4/50\n",
            "150/150 [==============================] - 1s 6ms/step - loss: 9.7815e-06 - mse: 1.9563e-05 - val_loss: 0.0026 - val_mse: 0.0052\n",
            "\n",
            "Epoch 00004: val_loss did not improve from 0.00177\n",
            "Epoch 5/50\n",
            "150/150 [==============================] - 1s 6ms/step - loss: 1.0556e-05 - mse: 2.1111e-05 - val_loss: 0.0017 - val_mse: 0.0034\n",
            "\n",
            "Epoch 00005: val_loss improved from 0.00177 to 0.00168, saving model to tmp/ckeckpointer.ckpt\n",
            "Epoch 6/50\n",
            "150/150 [==============================] - 1s 7ms/step - loss: 1.0271e-05 - mse: 2.0542e-05 - val_loss: 0.0017 - val_mse: 0.0035\n",
            "\n",
            "Epoch 00006: val_loss did not improve from 0.00168\n",
            "Epoch 7/50\n",
            "150/150 [==============================] - 1s 7ms/step - loss: 8.6731e-06 - mse: 1.7346e-05 - val_loss: 0.0024 - val_mse: 0.0048\n",
            "\n",
            "Epoch 00007: val_loss did not improve from 0.00168\n",
            "Epoch 8/50\n",
            "150/150 [==============================] - 1s 7ms/step - loss: 1.0282e-05 - mse: 2.0564e-05 - val_loss: 0.0017 - val_mse: 0.0035\n",
            "\n",
            "Epoch 00008: val_loss did not improve from 0.00168\n",
            "Epoch 9/50\n",
            "150/150 [==============================] - 1s 7ms/step - loss: 9.2100e-06 - mse: 1.8420e-05 - val_loss: 0.0016 - val_mse: 0.0032\n",
            "\n",
            "Epoch 00009: val_loss improved from 0.00168 to 0.00160, saving model to tmp/ckeckpointer.ckpt\n",
            "Epoch 10/50\n",
            "150/150 [==============================] - 1s 7ms/step - loss: 8.5816e-06 - mse: 1.7163e-05 - val_loss: 0.0017 - val_mse: 0.0033\n",
            "\n",
            "Epoch 00010: val_loss did not improve from 0.00160\n",
            "Epoch 11/50\n",
            "150/150 [==============================] - 1s 8ms/step - loss: 8.9060e-06 - mse: 1.7812e-05 - val_loss: 0.0011 - val_mse: 0.0022\n",
            "\n",
            "Epoch 00011: val_loss improved from 0.00160 to 0.00109, saving model to tmp/ckeckpointer.ckpt\n",
            "Epoch 12/50\n",
            "150/150 [==============================] - 1s 7ms/step - loss: 8.2679e-06 - mse: 1.6536e-05 - val_loss: 0.0015 - val_mse: 0.0031\n",
            "\n",
            "Epoch 00012: val_loss did not improve from 0.00109\n",
            "Epoch 13/50\n",
            "150/150 [==============================] - 1s 8ms/step - loss: 8.3626e-06 - mse: 1.6725e-05 - val_loss: 0.0020 - val_mse: 0.0040\n",
            "\n",
            "Epoch 00013: val_loss did not improve from 0.00109\n",
            "Epoch 14/50\n",
            "150/150 [==============================] - 1s 7ms/step - loss: 7.9264e-06 - mse: 1.5853e-05 - val_loss: 0.0017 - val_mse: 0.0033\n",
            "\n",
            "Epoch 00014: val_loss did not improve from 0.00109\n",
            "Epoch 15/50\n",
            "150/150 [==============================] - 1s 7ms/step - loss: 7.9538e-06 - mse: 1.5908e-05 - val_loss: 8.2060e-04 - val_mse: 0.0016\n",
            "\n",
            "Epoch 00015: val_loss improved from 0.00109 to 0.00082, saving model to tmp/ckeckpointer.ckpt\n",
            "Epoch 16/50\n",
            "150/150 [==============================] - 1s 7ms/step - loss: 8.9540e-06 - mse: 1.7908e-05 - val_loss: 0.0012 - val_mse: 0.0025\n",
            "\n",
            "Epoch 00016: val_loss did not improve from 0.00082\n",
            "Epoch 17/50\n",
            "150/150 [==============================] - 1s 7ms/step - loss: 7.1726e-06 - mse: 1.4345e-05 - val_loss: 0.0012 - val_mse: 0.0025\n",
            "\n",
            "Epoch 00017: val_loss did not improve from 0.00082\n",
            "Epoch 18/50\n",
            "150/150 [==============================] - 1s 7ms/step - loss: 6.7196e-06 - mse: 1.3439e-05 - val_loss: 7.7429e-04 - val_mse: 0.0015\n",
            "\n",
            "Epoch 00018: val_loss improved from 0.00082 to 0.00077, saving model to tmp/ckeckpointer.ckpt\n",
            "Epoch 19/50\n",
            "150/150 [==============================] - 1s 7ms/step - loss: 8.0443e-06 - mse: 1.6089e-05 - val_loss: 9.6274e-04 - val_mse: 0.0019\n",
            "\n",
            "Epoch 00019: val_loss did not improve from 0.00077\n",
            "Epoch 20/50\n",
            "150/150 [==============================] - 1s 7ms/step - loss: 6.7702e-06 - mse: 1.3540e-05 - val_loss: 7.9650e-04 - val_mse: 0.0016\n",
            "\n",
            "Epoch 00020: val_loss did not improve from 0.00077\n",
            "Epoch 21/50\n",
            "150/150 [==============================] - 1s 6ms/step - loss: 7.2773e-06 - mse: 1.4555e-05 - val_loss: 0.0010 - val_mse: 0.0021\n",
            "\n",
            "Epoch 00021: val_loss did not improve from 0.00077\n",
            "Epoch 22/50\n",
            "150/150 [==============================] - 1s 6ms/step - loss: 6.8617e-06 - mse: 1.3723e-05 - val_loss: 0.0013 - val_mse: 0.0025\n",
            "\n",
            "Epoch 00022: val_loss did not improve from 0.00077\n",
            "Epoch 23/50\n",
            "150/150 [==============================] - 1s 6ms/step - loss: 7.4982e-06 - mse: 1.4996e-05 - val_loss: 7.7858e-04 - val_mse: 0.0016\n",
            "\n",
            "Epoch 00023: val_loss did not improve from 0.00077\n",
            "Epoch 24/50\n",
            "150/150 [==============================] - 1s 7ms/step - loss: 6.0976e-06 - mse: 1.2195e-05 - val_loss: 8.3753e-04 - val_mse: 0.0017\n",
            "\n",
            "Epoch 00024: val_loss did not improve from 0.00077\n",
            "Epoch 25/50\n",
            "150/150 [==============================] - 1s 7ms/step - loss: 6.2532e-06 - mse: 1.2506e-05 - val_loss: 0.0010 - val_mse: 0.0020\n",
            "\n",
            "Epoch 00025: val_loss did not improve from 0.00077\n",
            "Epoch 26/50\n",
            "150/150 [==============================] - 1s 7ms/step - loss: 6.1915e-06 - mse: 1.2383e-05 - val_loss: 0.0012 - val_mse: 0.0024\n",
            "\n",
            "Epoch 00026: val_loss did not improve from 0.00077\n",
            "Epoch 27/50\n",
            "150/150 [==============================] - 1s 6ms/step - loss: 5.8042e-06 - mse: 1.1608e-05 - val_loss: 0.0014 - val_mse: 0.0028\n",
            "\n",
            "Epoch 00027: val_loss did not improve from 0.00077\n",
            "Epoch 28/50\n",
            "150/150 [==============================] - 1s 8ms/step - loss: 6.3164e-06 - mse: 1.2633e-05 - val_loss: 0.0011 - val_mse: 0.0022\n",
            "\n",
            "Epoch 00028: val_loss did not improve from 0.00077\n"
          ],
          "name": "stdout"
        }
      ]
    },
    {
      "cell_type": "code",
      "metadata": {
        "colab": {
          "base_uri": "https://localhost:8080/"
        },
        "id": "w5hWIqyb2jlC",
        "outputId": "9df283e8-9657-4f2f-f2c5-3f87af8243eb"
      },
      "source": [
        "model.load_weights(filename)"
      ],
      "execution_count": null,
      "outputs": [
        {
          "output_type": "execute_result",
          "data": {
            "text/plain": [
              "<tensorflow.python.training.tracking.util.CheckpointLoadStatus at 0x7f10b5bade50>"
            ]
          },
          "metadata": {
            "tags": []
          },
          "execution_count": 38
        }
      ]
    },
    {
      "cell_type": "code",
      "metadata": {
        "id": "c4KDqzcZ2oV_"
      },
      "source": [
        "pred = model.predict(test_data)"
      ],
      "execution_count": null,
      "outputs": []
    },
    {
      "cell_type": "code",
      "metadata": {
        "colab": {
          "base_uri": "https://localhost:8080/"
        },
        "id": "DvktfO8c2quQ",
        "outputId": "2302f629-54cc-4e57-f080-1e4f831376d6"
      },
      "source": [
        "pred.shape"
      ],
      "execution_count": null,
      "outputs": [
        {
          "output_type": "execute_result",
          "data": {
            "text/plain": [
              "(1180, 1)"
            ]
          },
          "metadata": {
            "tags": []
          },
          "execution_count": 40
        }
      ]
    },
    {
      "cell_type": "code",
      "metadata": {
        "colab": {
          "base_uri": "https://localhost:8080/",
          "height": 537
        },
        "id": "eLQolbEH2th1",
        "outputId": "6f1f0d1b-77b8-4c35-fb52-1983c105e556"
      },
      "source": [
        "plt.figure(figsize=(12, 9))\r\n",
        "plt.plot(np.asarray(y_test)[20:], label='actual')\r\n",
        "plt.plot(pred, label='prediction')\r\n",
        "plt.legend()\r\n",
        "plt.show()"
      ],
      "execution_count": null,
      "outputs": [
        {
          "output_type": "display_data",
          "data": {
            "image/png": "[encoded data removed]",
            "text/plain": [
              "<Figure size 864x648 with 1 Axes>"
            ]
          },
          "metadata": {
            "tags": [],
            "needs_background": "light"
          }
        }
      ]
    }
  ]
}