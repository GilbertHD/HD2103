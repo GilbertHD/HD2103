{
  "nbformat": 4,
  "nbformat_minor": 0,
  "metadata": {
    "colab": {
      "name": "HD_02_05_데이터전처리.ipynb",
      "provenance": [],
      "authorship_tag": "ABX9TyOxq8QKFuMJzd2Dn58iizq7",
      "include_colab_link": true
    },
    "kernelspec": {
      "name": "python3",
      "display_name": "Python 3"
    }
  },
  "cells": [
    {
      "cell_type": "markdown",
      "metadata": {
        "id": "view-in-github",
        "colab_type": "text"
      },
      "source": [
        "<a href=\"https://colab.research.google.com/github/GilbertHD/HD2103/blob/main/HD_02_05_%EB%8D%B0%EC%9D%B4%ED%84%B0%EC%A0%84%EC%B2%98%EB%A6%AC.ipynb\" target=\"_parent\"><img src=\"https://colab.research.google.com/assets/colab-badge.svg\" alt=\"Open In Colab\"/></a>"
      ]
    },
    {
      "cell_type": "markdown",
      "metadata": {
        "id": "UbAQYxFwVKEJ"
      },
      "source": [
        "![image.png](data:image/png;base64,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)\r\n",
        "\r\n",
        "### 데이터 인코딩"
      ]
    },
    {
      "cell_type": "markdown",
      "metadata": {
        "id": "Wpy-k5EpVKu5"
      },
      "source": [
        "* 레이블 인코딩(Label encoding)\r\n",
        "\r\n",
        "카테고리 피처를 코드형 숫자 값으로 변환하는 것"
      ]
    },
    {
      "cell_type": "code",
      "metadata": {
        "colab": {
          "base_uri": "https://localhost:8080/"
        },
        "id": "8BWPcf6hVO7h",
        "outputId": "a84d2ed7-5328-43e9-ddab-a3ee2e3c2815"
      },
      "source": [
        "from sklearn.preprocessing import LabelEncoder\r\n",
        "\r\n",
        "items=['TV','냉장고','전자렌지','컴퓨터','선풍기','선풍기','믹서','믹서']\r\n",
        "\r\n",
        "# LabelEncoder를 객체로 생성한 후 , fit( ) 과 transform( ) 으로 label 인코딩 수행. \r\n",
        "encoder = LabelEncoder()\r\n",
        "encoder.fit(items)\r\n",
        "labels = encoder.transform(items)\r\n",
        "print('인코딩 변환값:',labels)"
      ],
      "execution_count": null,
      "outputs": [
        {
          "output_type": "stream",
          "text": [
            "인코딩 변환값: [0 1 4 5 3 3 2 2]\n"
          ],
          "name": "stdout"
        }
      ]
    },
    {
      "cell_type": "code",
      "metadata": {
        "colab": {
          "base_uri": "https://localhost:8080/"
        },
        "id": "gz6VOOsjVWOB",
        "outputId": "1f22e2b1-71ba-4f75-b0e5-bfba4386c57a"
      },
      "source": [
        "print('인코딩 클래스:',encoder.classes_)"
      ],
      "execution_count": null,
      "outputs": [
        {
          "output_type": "stream",
          "text": [
            "인코딩 클래스: ['TV' '냉장고' '믹서' '선풍기' '전자렌지' '컴퓨터']\n"
          ],
          "name": "stdout"
        }
      ]
    },
    {
      "cell_type": "code",
      "metadata": {
        "colab": {
          "base_uri": "https://localhost:8080/"
        },
        "id": "2t9tgHelVYLx",
        "outputId": "5d54884b-f113-4dfc-86ec-718cfbdf2366"
      },
      "source": [
        "print('디코딩 원본 값:',encoder.inverse_transform([4, 5, 2, 0, 1, 1, 3, 3]))"
      ],
      "execution_count": null,
      "outputs": [
        {
          "output_type": "stream",
          "text": [
            "디코딩 원본 값: ['전자렌지' '컴퓨터' '믹서' 'TV' '냉장고' '냉장고' '선풍기' '선풍기']\n"
          ],
          "name": "stdout"
        }
      ]
    },
    {
      "cell_type": "markdown",
      "metadata": {
        "id": "PiqjvgOdVbCx"
      },
      "source": [
        "* 원-핫 인코딩(One-Hot encoding)\r\n",
        "\r\n",
        "피처 값의 유형에 따라 새로운 피처를 추가해 고유 값에 해당하는 칼럼에만 1을 표시하고 나머지 칼럼에는 0을 표시하는 방식"
      ]
    },
    {
      "cell_type": "code",
      "metadata": {
        "colab": {
          "base_uri": "https://localhost:8080/"
        },
        "id": "ljK9qs78Vbcr",
        "outputId": "b5bc0ce4-9a10-4b44-f4ec-d90bdfa160cc"
      },
      "source": [
        "from sklearn.preprocessing import OneHotEncoder\r\n",
        "import numpy as np\r\n",
        "\r\n",
        "items=['TV','냉장고','전자렌지','컴퓨터','선풍기','선풍기','믹서','믹서']\r\n",
        "\r\n",
        "# 먼저 숫자값으로 변환을 위해 LabelEncoder로 변환합니다. \r\n",
        "encoder = LabelEncoder()\r\n",
        "encoder.fit(items)\r\n",
        "labels = encoder.transform(items)\r\n",
        "# 2차원 데이터로 변환합니다. \r\n",
        "labels = labels.reshape(-1,1)\r\n",
        "\r\n",
        "# 원-핫 인코딩을 적용합니다. \r\n",
        "oh_encoder = OneHotEncoder()\r\n",
        "oh_encoder.fit(labels)\r\n",
        "oh_labels = oh_encoder.transform(labels)\r\n",
        "print('원-핫 인코딩 데이터')\r\n",
        "print(oh_labels.toarray())\r\n",
        "print('원-핫 인코딩 데이터 차원')\r\n",
        "print(oh_labels.shape)"
      ],
      "execution_count": null,
      "outputs": [
        {
          "output_type": "stream",
          "text": [
            "원-핫 인코딩 데이터\n",
            "[[1. 0. 0. 0. 0. 0.]\n",
            " [0. 1. 0. 0. 0. 0.]\n",
            " [0. 0. 0. 0. 1. 0.]\n",
            " [0. 0. 0. 0. 0. 1.]\n",
            " [0. 0. 0. 1. 0. 0.]\n",
            " [0. 0. 0. 1. 0. 0.]\n",
            " [0. 0. 1. 0. 0. 0.]\n",
            " [0. 0. 1. 0. 0. 0.]]\n",
            "원-핫 인코딩 데이터 차원\n",
            "(8, 6)\n"
          ],
          "name": "stdout"
        }
      ]
    },
    {
      "cell_type": "code",
      "metadata": {
        "colab": {
          "base_uri": "https://localhost:8080/",
          "height": 284
        },
        "id": "10BeMgheVfLZ",
        "outputId": "e3e6d9d2-63f7-4cbe-8f13-a889a891a153"
      },
      "source": [
        "import pandas as pd\r\n",
        "\r\n",
        "df = pd.DataFrame({'item':['TV','냉장고','전자렌지','컴퓨터','선풍기','선풍기','믹서','믹서'] })\r\n",
        "pd.get_dummies(df)"
      ],
      "execution_count": null,
      "outputs": [
        {
          "output_type": "execute_result",
          "data": {
            "text/html": [
              "<div>\n",
              "<style scoped>\n",
              "    .dataframe tbody tr th:only-of-type {\n",
              "        vertical-align: middle;\n",
              "    }\n",
              "\n",
              "    .dataframe tbody tr th {\n",
              "        vertical-align: top;\n",
              "    }\n",
              "\n",
              "    .dataframe thead th {\n",
              "        text-align: right;\n",
              "    }\n",
              "</style>\n",
              "<table border=\"1\" class=\"dataframe\">\n",
              "  <thead>\n",
              "    <tr style=\"text-align: right;\">\n",
              "      <th></th>\n",
              "      <th>item_TV</th>\n",
              "      <th>item_냉장고</th>\n",
              "      <th>item_믹서</th>\n",
              "      <th>item_선풍기</th>\n",
              "      <th>item_전자렌지</th>\n",
              "      <th>item_컴퓨터</th>\n",
              "    </tr>\n",
              "  </thead>\n",
              "  <tbody>\n",
              "    <tr>\n",
              "      <th>0</th>\n",
              "      <td>1</td>\n",
              "      <td>0</td>\n",
              "      <td>0</td>\n",
              "      <td>0</td>\n",
              "      <td>0</td>\n",
              "      <td>0</td>\n",
              "    </tr>\n",
              "    <tr>\n",
              "      <th>1</th>\n",
              "      <td>0</td>\n",
              "      <td>1</td>\n",
              "      <td>0</td>\n",
              "      <td>0</td>\n",
              "      <td>0</td>\n",
              "      <td>0</td>\n",
              "    </tr>\n",
              "    <tr>\n",
              "      <th>2</th>\n",
              "      <td>0</td>\n",
              "      <td>0</td>\n",
              "      <td>0</td>\n",
              "      <td>0</td>\n",
              "      <td>1</td>\n",
              "      <td>0</td>\n",
              "    </tr>\n",
              "    <tr>\n",
              "      <th>3</th>\n",
              "      <td>0</td>\n",
              "      <td>0</td>\n",
              "      <td>0</td>\n",
              "      <td>0</td>\n",
              "      <td>0</td>\n",
              "      <td>1</td>\n",
              "    </tr>\n",
              "    <tr>\n",
              "      <th>4</th>\n",
              "      <td>0</td>\n",
              "      <td>0</td>\n",
              "      <td>0</td>\n",
              "      <td>1</td>\n",
              "      <td>0</td>\n",
              "      <td>0</td>\n",
              "    </tr>\n",
              "    <tr>\n",
              "      <th>5</th>\n",
              "      <td>0</td>\n",
              "      <td>0</td>\n",
              "      <td>0</td>\n",
              "      <td>1</td>\n",
              "      <td>0</td>\n",
              "      <td>0</td>\n",
              "    </tr>\n",
              "    <tr>\n",
              "      <th>6</th>\n",
              "      <td>0</td>\n",
              "      <td>0</td>\n",
              "      <td>1</td>\n",
              "      <td>0</td>\n",
              "      <td>0</td>\n",
              "      <td>0</td>\n",
              "    </tr>\n",
              "    <tr>\n",
              "      <th>7</th>\n",
              "      <td>0</td>\n",
              "      <td>0</td>\n",
              "      <td>1</td>\n",
              "      <td>0</td>\n",
              "      <td>0</td>\n",
              "      <td>0</td>\n",
              "    </tr>\n",
              "  </tbody>\n",
              "</table>\n",
              "</div>"
            ],
            "text/plain": [
              "   item_TV  item_냉장고  item_믹서  item_선풍기  item_전자렌지  item_컴퓨터\n",
              "0        1         0        0         0          0         0\n",
              "1        0         1        0         0          0         0\n",
              "2        0         0        0         0          1         0\n",
              "3        0         0        0         0          0         1\n",
              "4        0         0        0         1          0         0\n",
              "5        0         0        0         1          0         0\n",
              "6        0         0        1         0          0         0\n",
              "7        0         0        1         0          0         0"
            ]
          },
          "metadata": {
            "tags": []
          },
          "execution_count": 5
        }
      ]
    },
    {
      "cell_type": "markdown",
      "metadata": {
        "id": "jytQ73DdVic5"
      },
      "source": [
        "### 피처 스케일링과 정규화"
      ]
    },
    {
      "cell_type": "markdown",
      "metadata": {
        "id": "aKjwP_V_VjCR"
      },
      "source": [
        "* StandardScaler\r\n",
        "\r\n",
        "https://mkjjo.github.io/python/2019/01/10/scaler.html\r\n",
        "\r\n",
        "\r\n",
        "![image.png](data:image/png;base64,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)"
      ]
    },
    {
      "cell_type": "code",
      "metadata": {
        "colab": {
          "base_uri": "https://localhost:8080/"
        },
        "id": "B7lIPFFvVliw",
        "outputId": "2ccf7101-a034-4112-81a8-544bff318117"
      },
      "source": [
        "from sklearn.datasets import load_iris\r\n",
        "import pandas as pd\r\n",
        "# 붓꽃 데이터 셋을 로딩하고 DataFrame으로 변환합니다. \r\n",
        "iris = load_iris()\r\n",
        "iris_data = iris.data\r\n",
        "iris_df = pd.DataFrame(data=iris_data, columns=iris.feature_names)\r\n",
        "\r\n",
        "print('feature 들의 평균 값')\r\n",
        "print(iris_df.mean())\r\n",
        "print('\\nfeature 들의 분산 값')\r\n",
        "print(iris_df.var())\r\n"
      ],
      "execution_count": null,
      "outputs": [
        {
          "output_type": "stream",
          "text": [
            "feature 들의 평균 값\n",
            "sepal length (cm)    5.843333\n",
            "sepal width (cm)     3.057333\n",
            "petal length (cm)    3.758000\n",
            "petal width (cm)     1.199333\n",
            "dtype: float64\n",
            "\n",
            "feature 들의 분산 값\n",
            "sepal length (cm)    0.685694\n",
            "sepal width (cm)     0.189979\n",
            "petal length (cm)    3.116278\n",
            "petal width (cm)     0.581006\n",
            "dtype: float64\n"
          ],
          "name": "stdout"
        }
      ]
    },
    {
      "cell_type": "code",
      "metadata": {
        "colab": {
          "base_uri": "https://localhost:8080/"
        },
        "id": "gmtwN-2_VpNb",
        "outputId": "66bb92d3-b835-41e0-f9aa-cbcdf0adf642"
      },
      "source": [
        "from sklearn.preprocessing import StandardScaler\r\n",
        "\r\n",
        "# StandardScaler객체 생성\r\n",
        "scaler = StandardScaler()\r\n",
        "# StandardScaler 로 데이터 셋 변환. fit( ) 과 transform( ) 호출.  \r\n",
        "scaler.fit(iris_df)\r\n",
        "iris_scaled = scaler.transform(iris_df)\r\n",
        "\r\n",
        "#transform( )시 scale 변환된 데이터 셋이 numpy ndarry로 반환되어 이를 DataFrame으로 변환\r\n",
        "iris_df_scaled = pd.DataFrame(data=iris_scaled, columns=iris.feature_names)\r\n",
        "print('feature 들의 평균 값')\r\n",
        "print(iris_df_scaled.mean())\r\n",
        "print('\\nfeature 들의 분산 값')\r\n",
        "print(iris_df_scaled.var())"
      ],
      "execution_count": null,
      "outputs": [
        {
          "output_type": "stream",
          "text": [
            "feature 들의 평균 값\n",
            "sepal length (cm)   -1.690315e-15\n",
            "sepal width (cm)    -1.842970e-15\n",
            "petal length (cm)   -1.698641e-15\n",
            "petal width (cm)    -1.409243e-15\n",
            "dtype: float64\n",
            "\n",
            "feature 들의 분산 값\n",
            "sepal length (cm)    1.006711\n",
            "sepal width (cm)     1.006711\n",
            "petal length (cm)    1.006711\n",
            "petal width (cm)     1.006711\n",
            "dtype: float64\n"
          ],
          "name": "stdout"
        }
      ]
    },
    {
      "cell_type": "markdown",
      "metadata": {
        "id": "FEN4vrGbVsWT"
      },
      "source": [
        "* MinMaxScaler"
      ]
    },
    {
      "cell_type": "code",
      "metadata": {
        "colab": {
          "base_uri": "https://localhost:8080/"
        },
        "id": "kq5WYx0aVt8q",
        "outputId": "c4973cc5-348d-49af-b5c6-07589e4d5c88"
      },
      "source": [
        "from sklearn.preprocessing import MinMaxScaler\r\n",
        "\r\n",
        "# MinMaxScaler객체 생성\r\n",
        "scaler = MinMaxScaler()\r\n",
        "# MinMaxScaler 로 데이터 셋 변환. fit() 과 transform() 호출.  \r\n",
        "scaler.fit(iris_df)\r\n",
        "iris_scaled = scaler.transform(iris_df)\r\n",
        "\r\n",
        "# transform()시 scale 변환된 데이터 셋이 numpy ndarry로 반환되어 이를 DataFrame으로 변환\r\n",
        "iris_df_scaled = pd.DataFrame(data=iris_scaled, columns=iris.feature_names)\r\n",
        "print('feature들의 최소 값')\r\n",
        "print(iris_df_scaled.min())\r\n",
        "print('\\nfeature들의 최대 값')\r\n",
        "print(iris_df_scaled.max())\r\n"
      ],
      "execution_count": null,
      "outputs": [
        {
          "output_type": "stream",
          "text": [
            "feature들의 최소 값\n",
            "sepal length (cm)    0.0\n",
            "sepal width (cm)     0.0\n",
            "petal length (cm)    0.0\n",
            "petal width (cm)     0.0\n",
            "dtype: float64\n",
            "\n",
            "feature들의 최대 값\n",
            "sepal length (cm)    1.0\n",
            "sepal width (cm)     1.0\n",
            "petal length (cm)    1.0\n",
            "petal width (cm)     1.0\n",
            "dtype: float64\n"
          ],
          "name": "stdout"
        }
      ]
    },
    {
      "cell_type": "markdown",
      "metadata": {
        "id": "MRfvyQULVwfh"
      },
      "source": [
        "* Scaler를 이용하여 학습 데이터와 테스트 데이터에 fit(), transform(), fit_transform() 적용 시 유의사항. "
      ]
    },
    {
      "cell_type": "code",
      "metadata": {
        "id": "VcgTZQGgVzyR"
      },
      "source": [
        "from sklearn.preprocessing import MinMaxScaler\r\n",
        "import numpy as np\r\n",
        "\r\n",
        "# 학습 데이터는 0 부터 10까지, 테스트 데이터는 0 부터 5까지 값을 가지는 데이터 세트로 생성\r\n",
        "# Scaler클래스의 fit(), transform()은 2차원 이상 데이터만 가능하므로 reshape(-1, 1)로 차원 변경\r\n",
        "train_array = np.arange(0, 11).reshape(-1, 1)\r\n",
        "test_array =  np.arange(0, 6).reshape(-1, 1)"
      ],
      "execution_count": null,
      "outputs": []
    },
    {
      "cell_type": "code",
      "metadata": {
        "colab": {
          "base_uri": "https://localhost:8080/"
        },
        "id": "kOLJiDn6V3yA",
        "outputId": "3e314183-524f-428a-a20d-374bfec82d24"
      },
      "source": [
        "# 최소값 0, 최대값 1로 변환하는 MinMaxScaler객체 생성\r\n",
        "scaler = MinMaxScaler()\r\n",
        "# fit()하게 되면 train_array 데이터의 최소값이 0, 최대값이 10으로 설정.  \r\n",
        "scaler.fit(train_array)\r\n",
        "# 1/10 scale로 train_array 데이터 변환함. 원본 10-> 1로 변환됨.\r\n",
        "train_scaled = scaler.transform(train_array)\r\n",
        " \r\n",
        "print('원본 train_array 데이터:', np.round(train_array.reshape(-1), 2))\r\n",
        "print('Scale된 train_array 데이터:', np.round(train_scaled.reshape(-1), 2))"
      ],
      "execution_count": null,
      "outputs": [
        {
          "output_type": "stream",
          "text": [
            "원본 train_array 데이터: [ 0  1  2  3  4  5  6  7  8  9 10]\n",
            "Scale된 train_array 데이터: [0.  0.1 0.2 0.3 0.4 0.5 0.6 0.7 0.8 0.9 1. ]\n"
          ],
          "name": "stdout"
        }
      ]
    },
    {
      "cell_type": "code",
      "metadata": {
        "id": "Djc8UxOiV6LB",
        "colab": {
          "base_uri": "https://localhost:8080/"
        },
        "outputId": "0c27c4ca-9649-4762-a00f-3eefbfd65feb"
      },
      "source": [
        "# 앞에서 생성한 MinMaxScaler에 test_array를 fit()하게 되면 원본 데이터의 최소값이 0, 최대값이 5으로 설정됨 \r\n",
        "scaler.fit(test_array)\r\n",
        "# 1/5 scale로 test_array 데이터 변환함. 원본 5->1로 변환.  \r\n",
        "test_scaled = scaler.transform(test_array)\r\n",
        "# train_array 변환 출력\r\n",
        "print('원본 test_array 데이터:', np.round(test_array.reshape(-1), 2))\r\n",
        "print('Scale된 test_array 데이터:', np.round(test_scaled.reshape(-1), 2))"
      ],
      "execution_count": null,
      "outputs": [
        {
          "output_type": "stream",
          "text": [
            "원본 test_array 데이터: [0 1 2 3 4 5]\n",
            "Scale된 test_array 데이터: [0.  0.2 0.4 0.6 0.8 1. ]\n"
          ],
          "name": "stdout"
        }
      ]
    },
    {
      "cell_type": "code",
      "metadata": {
        "id": "jl9kZpdoV8ea",
        "colab": {
          "base_uri": "https://localhost:8080/"
        },
        "outputId": "beeb9519-83dc-4ccc-ff31-66029c94308d"
      },
      "source": [
        "scaler = MinMaxScaler()\r\n",
        "scaler.fit(train_array)\r\n",
        "train_scaled = scaler.transform(train_array)\r\n",
        "print('원본 train_array 데이터:', np.round(train_array.reshape(-1), 2))\r\n",
        "print('Scale된 train_array 데이터:', np.round(train_scaled.reshape(-1), 2))\r\n",
        "\r\n",
        "# test_array에 Scale 변환을 할 때는 반드시 fit()을 호출하지 않고 transform() 만으로 변환해야 함. \r\n",
        "test_scaled = scaler.transform(test_array)\r\n",
        "print('\\n원본 test_array 데이터:', np.round(test_array.reshape(-1), 2))\r\n",
        "print('Scale된 test_array 데이터:', np.round(test_scaled.reshape(-1), 2))"
      ],
      "execution_count": null,
      "outputs": [
        {
          "output_type": "stream",
          "text": [
            "원본 train_array 데이터: [ 0  1  2  3  4  5  6  7  8  9 10]\n",
            "Scale된 train_array 데이터: [0.  0.1 0.2 0.3 0.4 0.5 0.6 0.7 0.8 0.9 1. ]\n",
            "\n",
            "원본 test_array 데이터: [0 1 2 3 4 5]\n",
            "Scale된 test_array 데이터: [0.  0.1 0.2 0.3 0.4 0.5]\n"
          ],
          "name": "stdout"
        }
      ]
    }
  ]
}