{
  "nbformat": 4,
  "nbformat_minor": 0,
  "metadata": {
    "colab": {
      "name": "HD_02_05_데이터전처리.ipynb",
      "provenance": [],
      "authorship_tag": "ABX9TyOmOGI6fGK9CE/oVWdI4966",
      "include_colab_link": true
    },
    "kernelspec": {
      "name": "python3",
      "display_name": "Python 3"
    }
  },
  "cells": [
    {
      "cell_type": "markdown",
      "metadata": {
        "id": "view-in-github",
        "colab_type": "text"
      },
      "source": [
        "<a href=\"https://colab.research.google.com/github/GilbertHD/HD2103/blob/main/HD_02_05_%EB%8D%B0%EC%9D%B4%ED%84%B0%EC%A0%84%EC%B2%98%EB%A6%AC.ipynb\" target=\"_parent\"><img src=\"https://colab.research.google.com/assets/colab-badge.svg\" alt=\"Open In Colab\"/></a>"
      ]
    },
    {
      "cell_type": "markdown",
      "metadata": {
        "id": "UbAQYxFwVKEJ"
      },
      "source": [
        "### 데이터 인코딩"
      ]
    },
    {
      "cell_type": "markdown",
      "metadata": {
        "id": "Wpy-k5EpVKu5"
      },
      "source": [
        "* 레이블 인코딩(Label encoding)"
      ]
    },
    {
      "cell_type": "code",
      "metadata": {
        "colab": {
          "base_uri": "https://localhost:8080/"
        },
        "id": "8BWPcf6hVO7h",
        "outputId": "a84d2ed7-5328-43e9-ddab-a3ee2e3c2815"
      },
      "source": [
        "from sklearn.preprocessing import LabelEncoder\r\n",
        "\r\n",
        "items=['TV','냉장고','전자렌지','컴퓨터','선풍기','선풍기','믹서','믹서']\r\n",
        "\r\n",
        "# LabelEncoder를 객체로 생성한 후 , fit( ) 과 transform( ) 으로 label 인코딩 수행. \r\n",
        "encoder = LabelEncoder()\r\n",
        "encoder.fit(items)\r\n",
        "labels = encoder.transform(items)\r\n",
        "print('인코딩 변환값:',labels)"
      ],
      "execution_count": null,
      "outputs": [
        {
          "output_type": "stream",
          "text": [
            "인코딩 변환값: [0 1 4 5 3 3 2 2]\n"
          ],
          "name": "stdout"
        }
      ]
    },
    {
      "cell_type": "code",
      "metadata": {
        "colab": {
          "base_uri": "https://localhost:8080/"
        },
        "id": "gz6VOOsjVWOB",
        "outputId": "1f22e2b1-71ba-4f75-b0e5-bfba4386c57a"
      },
      "source": [
        "print('인코딩 클래스:',encoder.classes_)"
      ],
      "execution_count": null,
      "outputs": [
        {
          "output_type": "stream",
          "text": [
            "인코딩 클래스: ['TV' '냉장고' '믹서' '선풍기' '전자렌지' '컴퓨터']\n"
          ],
          "name": "stdout"
        }
      ]
    },
    {
      "cell_type": "code",
      "metadata": {
        "colab": {
          "base_uri": "https://localhost:8080/"
        },
        "id": "2t9tgHelVYLx",
        "outputId": "5d54884b-f113-4dfc-86ec-718cfbdf2366"
      },
      "source": [
        "print('디코딩 원본 값:',encoder.inverse_transform([4, 5, 2, 0, 1, 1, 3, 3]))"
      ],
      "execution_count": null,
      "outputs": [
        {
          "output_type": "stream",
          "text": [
            "디코딩 원본 값: ['전자렌지' '컴퓨터' '믹서' 'TV' '냉장고' '냉장고' '선풍기' '선풍기']\n"
          ],
          "name": "stdout"
        }
      ]
    },
    {
      "cell_type": "markdown",
      "metadata": {
        "id": "PiqjvgOdVbCx"
      },
      "source": [
        "* 원-핫 인코딩(One-Hot encoding)"
      ]
    },
    {
      "cell_type": "code",
      "metadata": {
        "colab": {
          "base_uri": "https://localhost:8080/"
        },
        "id": "ljK9qs78Vbcr",
        "outputId": "b5bc0ce4-9a10-4b44-f4ec-d90bdfa160cc"
      },
      "source": [
        "from sklearn.preprocessing import OneHotEncoder\r\n",
        "import numpy as np\r\n",
        "\r\n",
        "items=['TV','냉장고','전자렌지','컴퓨터','선풍기','선풍기','믹서','믹서']\r\n",
        "\r\n",
        "# 먼저 숫자값으로 변환을 위해 LabelEncoder로 변환합니다. \r\n",
        "encoder = LabelEncoder()\r\n",
        "encoder.fit(items)\r\n",
        "labels = encoder.transform(items)\r\n",
        "# 2차원 데이터로 변환합니다. \r\n",
        "labels = labels.reshape(-1,1)\r\n",
        "\r\n",
        "# 원-핫 인코딩을 적용합니다. \r\n",
        "oh_encoder = OneHotEncoder()\r\n",
        "oh_encoder.fit(labels)\r\n",
        "oh_labels = oh_encoder.transform(labels)\r\n",
        "print('원-핫 인코딩 데이터')\r\n",
        "print(oh_labels.toarray())\r\n",
        "print('원-핫 인코딩 데이터 차원')\r\n",
        "print(oh_labels.shape)"
      ],
      "execution_count": null,
      "outputs": [
        {
          "output_type": "stream",
          "text": [
            "원-핫 인코딩 데이터\n",
            "[[1. 0. 0. 0. 0. 0.]\n",
            " [0. 1. 0. 0. 0. 0.]\n",
            " [0. 0. 0. 0. 1. 0.]\n",
            " [0. 0. 0. 0. 0. 1.]\n",
            " [0. 0. 0. 1. 0. 0.]\n",
            " [0. 0. 0. 1. 0. 0.]\n",
            " [0. 0. 1. 0. 0. 0.]\n",
            " [0. 0. 1. 0. 0. 0.]]\n",
            "원-핫 인코딩 데이터 차원\n",
            "(8, 6)\n"
          ],
          "name": "stdout"
        }
      ]
    },
    {
      "cell_type": "code",
      "metadata": {
        "colab": {
          "base_uri": "https://localhost:8080/",
          "height": 284
        },
        "id": "10BeMgheVfLZ",
        "outputId": "e3e6d9d2-63f7-4cbe-8f13-a889a891a153"
      },
      "source": [
        "import pandas as pd\r\n",
        "\r\n",
        "df = pd.DataFrame({'item':['TV','냉장고','전자렌지','컴퓨터','선풍기','선풍기','믹서','믹서'] })\r\n",
        "pd.get_dummies(df)"
      ],
      "execution_count": null,
      "outputs": [
        {
          "output_type": "execute_result",
          "data": {
            "text/html": [
              "<div>\n",
              "<style scoped>\n",
              "    .dataframe tbody tr th:only-of-type {\n",
              "        vertical-align: middle;\n",
              "    }\n",
              "\n",
              "    .dataframe tbody tr th {\n",
              "        vertical-align: top;\n",
              "    }\n",
              "\n",
              "    .dataframe thead th {\n",
              "        text-align: right;\n",
              "    }\n",
              "</style>\n",
              "<table border=\"1\" class=\"dataframe\">\n",
              "  <thead>\n",
              "    <tr style=\"text-align: right;\">\n",
              "      <th></th>\n",
              "      <th>item_TV</th>\n",
              "      <th>item_냉장고</th>\n",
              "      <th>item_믹서</th>\n",
              "      <th>item_선풍기</th>\n",
              "      <th>item_전자렌지</th>\n",
              "      <th>item_컴퓨터</th>\n",
              "    </tr>\n",
              "  </thead>\n",
              "  <tbody>\n",
              "    <tr>\n",
              "      <th>0</th>\n",
              "      <td>1</td>\n",
              "      <td>0</td>\n",
              "      <td>0</td>\n",
              "      <td>0</td>\n",
              "      <td>0</td>\n",
              "      <td>0</td>\n",
              "    </tr>\n",
              "    <tr>\n",
              "      <th>1</th>\n",
              "      <td>0</td>\n",
              "      <td>1</td>\n",
              "      <td>0</td>\n",
              "      <td>0</td>\n",
              "      <td>0</td>\n",
              "      <td>0</td>\n",
              "    </tr>\n",
              "    <tr>\n",
              "      <th>2</th>\n",
              "      <td>0</td>\n",
              "      <td>0</td>\n",
              "      <td>0</td>\n",
              "      <td>0</td>\n",
              "      <td>1</td>\n",
              "      <td>0</td>\n",
              "    </tr>\n",
              "    <tr>\n",
              "      <th>3</th>\n",
              "      <td>0</td>\n",
              "      <td>0</td>\n",
              "      <td>0</td>\n",
              "      <td>0</td>\n",
              "      <td>0</td>\n",
              "      <td>1</td>\n",
              "    </tr>\n",
              "    <tr>\n",
              "      <th>4</th>\n",
              "      <td>0</td>\n",
              "      <td>0</td>\n",
              "      <td>0</td>\n",
              "      <td>1</td>\n",
              "      <td>0</td>\n",
              "      <td>0</td>\n",
              "    </tr>\n",
              "    <tr>\n",
              "      <th>5</th>\n",
              "      <td>0</td>\n",
              "      <td>0</td>\n",
              "      <td>0</td>\n",
              "      <td>1</td>\n",
              "      <td>0</td>\n",
              "      <td>0</td>\n",
              "    </tr>\n",
              "    <tr>\n",
              "      <th>6</th>\n",
              "      <td>0</td>\n",
              "      <td>0</td>\n",
              "      <td>1</td>\n",
              "      <td>0</td>\n",
              "      <td>0</td>\n",
              "      <td>0</td>\n",
              "    </tr>\n",
              "    <tr>\n",
              "      <th>7</th>\n",
              "      <td>0</td>\n",
              "      <td>0</td>\n",
              "      <td>1</td>\n",
              "      <td>0</td>\n",
              "      <td>0</td>\n",
              "      <td>0</td>\n",
              "    </tr>\n",
              "  </tbody>\n",
              "</table>\n",
              "</div>"
            ],
            "text/plain": [
              "   item_TV  item_냉장고  item_믹서  item_선풍기  item_전자렌지  item_컴퓨터\n",
              "0        1         0        0         0          0         0\n",
              "1        0         1        0         0          0         0\n",
              "2        0         0        0         0          1         0\n",
              "3        0         0        0         0          0         1\n",
              "4        0         0        0         1          0         0\n",
              "5        0         0        0         1          0         0\n",
              "6        0         0        1         0          0         0\n",
              "7        0         0        1         0          0         0"
            ]
          },
          "metadata": {
            "tags": []
          },
          "execution_count": 5
        }
      ]
    },
    {
      "cell_type": "markdown",
      "metadata": {
        "id": "jytQ73DdVic5"
      },
      "source": [
        "### 피처 스케일링과 정규화"
      ]
    },
    {
      "cell_type": "markdown",
      "metadata": {
        "id": "aKjwP_V_VjCR"
      },
      "source": [
        "* StandardScaler"
      ]
    },
    {
      "cell_type": "code",
      "metadata": {
        "colab": {
          "base_uri": "https://localhost:8080/"
        },
        "id": "B7lIPFFvVliw",
        "outputId": "2ccf7101-a034-4112-81a8-544bff318117"
      },
      "source": [
        "from sklearn.datasets import load_iris\r\n",
        "import pandas as pd\r\n",
        "# 붓꽃 데이터 셋을 로딩하고 DataFrame으로 변환합니다. \r\n",
        "iris = load_iris()\r\n",
        "iris_data = iris.data\r\n",
        "iris_df = pd.DataFrame(data=iris_data, columns=iris.feature_names)\r\n",
        "\r\n",
        "print('feature 들의 평균 값')\r\n",
        "print(iris_df.mean())\r\n",
        "print('\\nfeature 들의 분산 값')\r\n",
        "print(iris_df.var())\r\n"
      ],
      "execution_count": null,
      "outputs": [
        {
          "output_type": "stream",
          "text": [
            "feature 들의 평균 값\n",
            "sepal length (cm)    5.843333\n",
            "sepal width (cm)     3.057333\n",
            "petal length (cm)    3.758000\n",
            "petal width (cm)     1.199333\n",
            "dtype: float64\n",
            "\n",
            "feature 들의 분산 값\n",
            "sepal length (cm)    0.685694\n",
            "sepal width (cm)     0.189979\n",
            "petal length (cm)    3.116278\n",
            "petal width (cm)     0.581006\n",
            "dtype: float64\n"
          ],
          "name": "stdout"
        }
      ]
    },
    {
      "cell_type": "code",
      "metadata": {
        "colab": {
          "base_uri": "https://localhost:8080/"
        },
        "id": "gmtwN-2_VpNb",
        "outputId": "66bb92d3-b835-41e0-f9aa-cbcdf0adf642"
      },
      "source": [
        "from sklearn.preprocessing import StandardScaler\r\n",
        "\r\n",
        "# StandardScaler객체 생성\r\n",
        "scaler = StandardScaler()\r\n",
        "# StandardScaler 로 데이터 셋 변환. fit( ) 과 transform( ) 호출.  \r\n",
        "scaler.fit(iris_df)\r\n",
        "iris_scaled = scaler.transform(iris_df)\r\n",
        "\r\n",
        "#transform( )시 scale 변환된 데이터 셋이 numpy ndarry로 반환되어 이를 DataFrame으로 변환\r\n",
        "iris_df_scaled = pd.DataFrame(data=iris_scaled, columns=iris.feature_names)\r\n",
        "print('feature 들의 평균 값')\r\n",
        "print(iris_df_scaled.mean())\r\n",
        "print('\\nfeature 들의 분산 값')\r\n",
        "print(iris_df_scaled.var())"
      ],
      "execution_count": null,
      "outputs": [
        {
          "output_type": "stream",
          "text": [
            "feature 들의 평균 값\n",
            "sepal length (cm)   -1.690315e-15\n",
            "sepal width (cm)    -1.842970e-15\n",
            "petal length (cm)   -1.698641e-15\n",
            "petal width (cm)    -1.409243e-15\n",
            "dtype: float64\n",
            "\n",
            "feature 들의 분산 값\n",
            "sepal length (cm)    1.006711\n",
            "sepal width (cm)     1.006711\n",
            "petal length (cm)    1.006711\n",
            "petal width (cm)     1.006711\n",
            "dtype: float64\n"
          ],
          "name": "stdout"
        }
      ]
    },
    {
      "cell_type": "markdown",
      "metadata": {
        "id": "FEN4vrGbVsWT"
      },
      "source": [
        "* MinMaxScaler"
      ]
    },
    {
      "cell_type": "code",
      "metadata": {
        "colab": {
          "base_uri": "https://localhost:8080/"
        },
        "id": "kq5WYx0aVt8q",
        "outputId": "c4973cc5-348d-49af-b5c6-07589e4d5c88"
      },
      "source": [
        "from sklearn.preprocessing import MinMaxScaler\r\n",
        "\r\n",
        "# MinMaxScaler객체 생성\r\n",
        "scaler = MinMaxScaler()\r\n",
        "# MinMaxScaler 로 데이터 셋 변환. fit() 과 transform() 호출.  \r\n",
        "scaler.fit(iris_df)\r\n",
        "iris_scaled = scaler.transform(iris_df)\r\n",
        "\r\n",
        "# transform()시 scale 변환된 데이터 셋이 numpy ndarry로 반환되어 이를 DataFrame으로 변환\r\n",
        "iris_df_scaled = pd.DataFrame(data=iris_scaled, columns=iris.feature_names)\r\n",
        "print('feature들의 최소 값')\r\n",
        "print(iris_df_scaled.min())\r\n",
        "print('\\nfeature들의 최대 값')\r\n",
        "print(iris_df_scaled.max())\r\n"
      ],
      "execution_count": null,
      "outputs": [
        {
          "output_type": "stream",
          "text": [
            "feature들의 최소 값\n",
            "sepal length (cm)    0.0\n",
            "sepal width (cm)     0.0\n",
            "petal length (cm)    0.0\n",
            "petal width (cm)     0.0\n",
            "dtype: float64\n",
            "\n",
            "feature들의 최대 값\n",
            "sepal length (cm)    1.0\n",
            "sepal width (cm)     1.0\n",
            "petal length (cm)    1.0\n",
            "petal width (cm)     1.0\n",
            "dtype: float64\n"
          ],
          "name": "stdout"
        }
      ]
    },
    {
      "cell_type": "markdown",
      "metadata": {
        "id": "MRfvyQULVwfh"
      },
      "source": [
        "* Scaler를 이용하여 학습 데이터와 테스트 데이터에 fit(), transform(), fit_transform() 적용 시 유의사항. "
      ]
    },
    {
      "cell_type": "code",
      "metadata": {
        "id": "VcgTZQGgVzyR"
      },
      "source": [
        "from sklearn.preprocessing import MinMaxScaler\r\n",
        "import numpy as np\r\n",
        "\r\n",
        "# 학습 데이터는 0 부터 10까지, 테스트 데이터는 0 부터 5까지 값을 가지는 데이터 세트로 생성\r\n",
        "# Scaler클래스의 fit(), transform()은 2차원 이상 데이터만 가능하므로 reshape(-1, 1)로 차원 변경\r\n",
        "train_array = np.arange(0, 11).reshape(-1, 1)\r\n",
        "test_array =  np.arange(0, 6).reshape(-1, 1)"
      ],
      "execution_count": null,
      "outputs": []
    },
    {
      "cell_type": "code",
      "metadata": {
        "colab": {
          "base_uri": "https://localhost:8080/"
        },
        "id": "kOLJiDn6V3yA",
        "outputId": "3e314183-524f-428a-a20d-374bfec82d24"
      },
      "source": [
        "# 최소값 0, 최대값 1로 변환하는 MinMaxScaler객체 생성\r\n",
        "scaler = MinMaxScaler()\r\n",
        "# fit()하게 되면 train_array 데이터의 최소값이 0, 최대값이 10으로 설정.  \r\n",
        "scaler.fit(train_array)\r\n",
        "# 1/10 scale로 train_array 데이터 변환함. 원본 10-> 1로 변환됨.\r\n",
        "train_scaled = scaler.transform(train_array)\r\n",
        " \r\n",
        "print('원본 train_array 데이터:', np.round(train_array.reshape(-1), 2))\r\n",
        "print('Scale된 train_array 데이터:', np.round(train_scaled.reshape(-1), 2))"
      ],
      "execution_count": null,
      "outputs": [
        {
          "output_type": "stream",
          "text": [
            "원본 train_array 데이터: [ 0  1  2  3  4  5  6  7  8  9 10]\n",
            "Scale된 train_array 데이터: [0.  0.1 0.2 0.3 0.4 0.5 0.6 0.7 0.8 0.9 1. ]\n"
          ],
          "name": "stdout"
        }
      ]
    },
    {
      "cell_type": "code",
      "metadata": {
        "id": "Djc8UxOiV6LB",
        "colab": {
          "base_uri": "https://localhost:8080/"
        },
        "outputId": "0c27c4ca-9649-4762-a00f-3eefbfd65feb"
      },
      "source": [
        "# 앞에서 생성한 MinMaxScaler에 test_array를 fit()하게 되면 원본 데이터의 최소값이 0, 최대값이 5으로 설정됨 \r\n",
        "scaler.fit(test_array)\r\n",
        "# 1/5 scale로 test_array 데이터 변환함. 원본 5->1로 변환.  \r\n",
        "test_scaled = scaler.transform(test_array)\r\n",
        "# train_array 변환 출력\r\n",
        "print('원본 test_array 데이터:', np.round(test_array.reshape(-1), 2))\r\n",
        "print('Scale된 test_array 데이터:', np.round(test_scaled.reshape(-1), 2))"
      ],
      "execution_count": null,
      "outputs": [
        {
          "output_type": "stream",
          "text": [
            "원본 test_array 데이터: [0 1 2 3 4 5]\n",
            "Scale된 test_array 데이터: [0.  0.2 0.4 0.6 0.8 1. ]\n"
          ],
          "name": "stdout"
        }
      ]
    },
    {
      "cell_type": "code",
      "metadata": {
        "id": "jl9kZpdoV8ea",
        "colab": {
          "base_uri": "https://localhost:8080/"
        },
        "outputId": "beeb9519-83dc-4ccc-ff31-66029c94308d"
      },
      "source": [
        "scaler = MinMaxScaler()\r\n",
        "scaler.fit(train_array)\r\n",
        "train_scaled = scaler.transform(train_array)\r\n",
        "print('원본 train_array 데이터:', np.round(train_array.reshape(-1), 2))\r\n",
        "print('Scale된 train_array 데이터:', np.round(train_scaled.reshape(-1), 2))\r\n",
        "\r\n",
        "# test_array에 Scale 변환을 할 때는 반드시 fit()을 호출하지 않고 transform() 만으로 변환해야 함. \r\n",
        "test_scaled = scaler.transform(test_array)\r\n",
        "print('\\n원본 test_array 데이터:', np.round(test_array.reshape(-1), 2))\r\n",
        "print('Scale된 test_array 데이터:', np.round(test_scaled.reshape(-1), 2))"
      ],
      "execution_count": null,
      "outputs": [
        {
          "output_type": "stream",
          "text": [
            "원본 train_array 데이터: [ 0  1  2  3  4  5  6  7  8  9 10]\n",
            "Scale된 train_array 데이터: [0.  0.1 0.2 0.3 0.4 0.5 0.6 0.7 0.8 0.9 1. ]\n",
            "\n",
            "원본 test_array 데이터: [0 1 2 3 4 5]\n",
            "Scale된 test_array 데이터: [0.  0.1 0.2 0.3 0.4 0.5]\n"
          ],
          "name": "stdout"
        }
      ]
    }
  ]
}