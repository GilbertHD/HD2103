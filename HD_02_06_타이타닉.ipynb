{
  "nbformat": 4,
  "nbformat_minor": 0,
  "metadata": {
    "colab": {
      "name": "HD_02_06_타이타닉.ipynb",
      "provenance": [],
      "authorship_tag": "ABX9TyN3z5sFAdxq3gqFVoYewd0u",
      "include_colab_link": true
    },
    "kernelspec": {
      "name": "python3",
      "display_name": "Python 3"
    }
  },
  "cells": [
    {
      "cell_type": "markdown",
      "metadata": {
        "id": "view-in-github",
        "colab_type": "text"
      },
      "source": [
        "<a href=\"https://colab.research.google.com/github/GilbertHD/HD2103/blob/main/HD_02_06_%ED%83%80%EC%9D%B4%ED%83%80%EB%8B%89.ipynb\" target=\"_parent\"><img src=\"https://colab.research.google.com/assets/colab-badge.svg\" alt=\"Open In Colab\"/></a>"
      ]
    },
    {
      "cell_type": "code",
      "metadata": {
        "id": "I147aYJ7WJT8",
        "colab": {
          "base_uri": "https://localhost:8080/"
        },
        "outputId": "62bbe2b3-1b62-4be6-af39-adea5be8e55a"
      },
      "source": [
        "from google.colab import drive\r\n",
        "drive.mount('/content/gdrive', force_remount=True)\r\n",
        "# ./gdrive/MyDrive/DATA/BASIC/"
      ],
      "execution_count": null,
      "outputs": [
        {
          "output_type": "stream",
          "text": [
            "Mounted at /content/gdrive\n"
          ],
          "name": "stdout"
        }
      ]
    },
    {
      "cell_type": "code",
      "metadata": {
        "colab": {
          "base_uri": "https://localhost:8080/",
          "height": 136
        },
        "id": "S5be4dUBWnV6",
        "outputId": "bef6749c-50d5-41f2-c32d-29f0c7897e5b"
      },
      "source": [
        "import numpy as np\r\n",
        "import pandas as pd\r\n",
        "import matplotlib.pyplot as plt\r\n",
        "import seaborn as sns\r\n",
        "%matplotlib inline\r\n",
        "\r\n",
        "titanic_df = pd.read_csv('./gdrive/MyDrive/DATA/BASIC/titanic_train.csv')\r\n",
        "titanic_df.head(3)"
      ],
      "execution_count": null,
      "outputs": [
        {
          "output_type": "execute_result",
          "data": {
            "text/html": [
              "<div>\n",
              "<style scoped>\n",
              "    .dataframe tbody tr th:only-of-type {\n",
              "        vertical-align: middle;\n",
              "    }\n",
              "\n",
              "    .dataframe tbody tr th {\n",
              "        vertical-align: top;\n",
              "    }\n",
              "\n",
              "    .dataframe thead th {\n",
              "        text-align: right;\n",
              "    }\n",
              "</style>\n",
              "<table border=\"1\" class=\"dataframe\">\n",
              "  <thead>\n",
              "    <tr style=\"text-align: right;\">\n",
              "      <th></th>\n",
              "      <th>PassengerId</th>\n",
              "      <th>Survived</th>\n",
              "      <th>Pclass</th>\n",
              "      <th>Name</th>\n",
              "      <th>Sex</th>\n",
              "      <th>Age</th>\n",
              "      <th>SibSp</th>\n",
              "      <th>Parch</th>\n",
              "      <th>Ticket</th>\n",
              "      <th>Fare</th>\n",
              "      <th>Cabin</th>\n",
              "      <th>Embarked</th>\n",
              "    </tr>\n",
              "  </thead>\n",
              "  <tbody>\n",
              "    <tr>\n",
              "      <th>0</th>\n",
              "      <td>1</td>\n",
              "      <td>0</td>\n",
              "      <td>3</td>\n",
              "      <td>Braund, Mr. Owen Harris</td>\n",
              "      <td>male</td>\n",
              "      <td>22.0</td>\n",
              "      <td>1</td>\n",
              "      <td>0</td>\n",
              "      <td>A/5 21171</td>\n",
              "      <td>7.2500</td>\n",
              "      <td>NaN</td>\n",
              "      <td>S</td>\n",
              "    </tr>\n",
              "    <tr>\n",
              "      <th>1</th>\n",
              "      <td>2</td>\n",
              "      <td>1</td>\n",
              "      <td>1</td>\n",
              "      <td>Cumings, Mrs. John Bradley (Florence Briggs Th...</td>\n",
              "      <td>female</td>\n",
              "      <td>38.0</td>\n",
              "      <td>1</td>\n",
              "      <td>0</td>\n",
              "      <td>PC 17599</td>\n",
              "      <td>71.2833</td>\n",
              "      <td>C85</td>\n",
              "      <td>C</td>\n",
              "    </tr>\n",
              "    <tr>\n",
              "      <th>2</th>\n",
              "      <td>3</td>\n",
              "      <td>1</td>\n",
              "      <td>3</td>\n",
              "      <td>Heikkinen, Miss. Laina</td>\n",
              "      <td>female</td>\n",
              "      <td>26.0</td>\n",
              "      <td>0</td>\n",
              "      <td>0</td>\n",
              "      <td>STON/O2. 3101282</td>\n",
              "      <td>7.9250</td>\n",
              "      <td>NaN</td>\n",
              "      <td>S</td>\n",
              "    </tr>\n",
              "  </tbody>\n",
              "</table>\n",
              "</div>"
            ],
            "text/plain": [
              "   PassengerId  Survived  Pclass  ...     Fare Cabin  Embarked\n",
              "0            1         0       3  ...   7.2500   NaN         S\n",
              "1            2         1       1  ...  71.2833   C85         C\n",
              "2            3         1       3  ...   7.9250   NaN         S\n",
              "\n",
              "[3 rows x 12 columns]"
            ]
          },
          "metadata": {
            "tags": []
          },
          "execution_count": 2
        }
      ]
    },
    {
      "cell_type": "code",
      "metadata": {
        "colab": {
          "base_uri": "https://localhost:8080/"
        },
        "id": "CDXkseAwWtbL",
        "outputId": "2b485cca-1651-4c32-f6bf-52153189b84e"
      },
      "source": [
        "print('\\n ### train 데이터 정보 ###  \\n')\r\n",
        "print(titanic_df.info())"
      ],
      "execution_count": null,
      "outputs": [
        {
          "output_type": "stream",
          "text": [
            "\n",
            " ### train 데이터 정보 ###  \n",
            "\n",
            "<class 'pandas.core.frame.DataFrame'>\n",
            "RangeIndex: 891 entries, 0 to 890\n",
            "Data columns (total 12 columns):\n",
            " #   Column       Non-Null Count  Dtype  \n",
            "---  ------       --------------  -----  \n",
            " 0   PassengerId  891 non-null    int64  \n",
            " 1   Survived     891 non-null    int64  \n",
            " 2   Pclass       891 non-null    int64  \n",
            " 3   Name         891 non-null    object \n",
            " 4   Sex          891 non-null    object \n",
            " 5   Age          714 non-null    float64\n",
            " 6   SibSp        891 non-null    int64  \n",
            " 7   Parch        891 non-null    int64  \n",
            " 8   Ticket       891 non-null    object \n",
            " 9   Fare         891 non-null    float64\n",
            " 10  Cabin        204 non-null    object \n",
            " 11  Embarked     889 non-null    object \n",
            "dtypes: float64(2), int64(5), object(5)\n",
            "memory usage: 83.7+ KB\n",
            "None\n"
          ],
          "name": "stdout"
        }
      ]
    },
    {
      "cell_type": "code",
      "metadata": {
        "colab": {
          "base_uri": "https://localhost:8080/"
        },
        "id": "AUDaCaOfWzyg",
        "outputId": "e205a755-320c-4224-ed72-50f63826905d"
      },
      "source": [
        "titanic_df['Age'].fillna(titanic_df['Age'].mean(),inplace=True)\r\n",
        "titanic_df['Cabin'].fillna('N',inplace=True)\r\n",
        "titanic_df['Embarked'].fillna('N',inplace=True)\r\n",
        "print('데이터 세트 Null 값 갯수 ',titanic_df.isnull().sum().sum())"
      ],
      "execution_count": null,
      "outputs": [
        {
          "output_type": "stream",
          "text": [
            "데이터 세트 Null 값 갯수  0\n"
          ],
          "name": "stdout"
        }
      ]
    },
    {
      "cell_type": "code",
      "metadata": {
        "colab": {
          "base_uri": "https://localhost:8080/"
        },
        "id": "kRuzoboNW2HA",
        "outputId": "f3731773-85c8-4061-a12a-cd3a4d639091"
      },
      "source": [
        "print(' Sex 값 분포 :\\n',titanic_df['Sex'].value_counts())\r\n",
        "print('\\n Cabin 값 분포 :\\n',titanic_df['Cabin'].value_counts())\r\n",
        "print('\\n Embarked 값 분포 :\\n',titanic_df['Embarked'].value_counts())"
      ],
      "execution_count": null,
      "outputs": [
        {
          "output_type": "stream",
          "text": [
            " Sex 값 분포 :\n",
            " male      577\n",
            "female    314\n",
            "Name: Sex, dtype: int64\n",
            "\n",
            " Cabin 값 분포 :\n",
            " N              687\n",
            "G6               4\n",
            "C23 C25 C27      4\n",
            "B96 B98          4\n",
            "F33              3\n",
            "              ... \n",
            "B4               1\n",
            "C54              1\n",
            "A26              1\n",
            "D28              1\n",
            "C30              1\n",
            "Name: Cabin, Length: 148, dtype: int64\n",
            "\n",
            " Embarked 값 분포 :\n",
            " S    644\n",
            "C    168\n",
            "Q     77\n",
            "N      2\n",
            "Name: Embarked, dtype: int64\n"
          ],
          "name": "stdout"
        }
      ]
    },
    {
      "cell_type": "code",
      "metadata": {
        "colab": {
          "base_uri": "https://localhost:8080/"
        },
        "id": "aeQTW-npW4rZ",
        "outputId": "1128e280-2b51-4c65-d8e8-803b7aef30a9"
      },
      "source": [
        "titanic_df['Cabin'] = titanic_df['Cabin'].str[:1]\r\n",
        "print(titanic_df['Cabin'].head(3))"
      ],
      "execution_count": null,
      "outputs": [
        {
          "output_type": "stream",
          "text": [
            "0    N\n",
            "1    C\n",
            "2    N\n",
            "Name: Cabin, dtype: object\n"
          ],
          "name": "stdout"
        }
      ]
    },
    {
      "cell_type": "code",
      "metadata": {
        "colab": {
          "base_uri": "https://localhost:8080/"
        },
        "id": "jM9XowfdW7HA",
        "outputId": "06f95997-4761-45ae-a394-22c46192e6ae"
      },
      "source": [
        "titanic_df.groupby(['Sex','Survived'])['Survived'].count()"
      ],
      "execution_count": null,
      "outputs": [
        {
          "output_type": "execute_result",
          "data": {
            "text/plain": [
              "Sex     Survived\n",
              "female  0            81\n",
              "        1           233\n",
              "male    0           468\n",
              "        1           109\n",
              "Name: Survived, dtype: int64"
            ]
          },
          "metadata": {
            "tags": []
          },
          "execution_count": 7
        }
      ]
    },
    {
      "cell_type": "code",
      "metadata": {
        "colab": {
          "base_uri": "https://localhost:8080/",
          "height": 297
        },
        "id": "XjnTxzVBW8-A",
        "outputId": "62938670-ddfd-494a-9102-d8108b7505d1"
      },
      "source": [
        "sns.barplot(x='Sex', y = 'Survived', data=titanic_df)"
      ],
      "execution_count": null,
      "outputs": [
        {
          "output_type": "execute_result",
          "data": {
            "text/plain": [
              "<matplotlib.axes._subplots.AxesSubplot at 0x7fb4a592fe10>"
            ]
          },
          "metadata": {
            "tags": []
          },
          "execution_count": 8
        },
        {
          "output_type": "display_data",
          "data": {
            "image/png": "[encoded data removed]",
            "text/plain": [
              "<Figure size 432x288 with 1 Axes>"
            ]
          },
          "metadata": {
            "tags": [],
            "needs_background": "light"
          }
        }
      ]
    },
    {
      "cell_type": "code",
      "metadata": {
        "colab": {
          "base_uri": "https://localhost:8080/",
          "height": 297
        },
        "id": "sGDtHM7iW_Eg",
        "outputId": "0c053028-3c35-4d5c-b95d-fb1c1a71f871"
      },
      "source": [
        "sns.barplot(x='Pclass', y='Survived', hue='Sex', data=titanic_df)"
      ],
      "execution_count": null,
      "outputs": [
        {
          "output_type": "execute_result",
          "data": {
            "text/plain": [
              "<matplotlib.axes._subplots.AxesSubplot at 0x7fb4a58be890>"
            ]
          },
          "metadata": {
            "tags": []
          },
          "execution_count": 9
        },
        {
          "output_type": "display_data",
          "data": {
            "image/png": "[encoded data removed]",
            "text/plain": [
              "<Figure size 432x288 with 1 Axes>"
            ]
          },
          "metadata": {
            "tags": [],
            "needs_background": "light"
          }
        }
      ]
    },
    {
      "cell_type": "code",
      "metadata": {
        "colab": {
          "base_uri": "https://localhost:8080/",
          "height": 389
        },
        "id": "4xn5z4DHXB-7",
        "outputId": "6daa6598-a2bb-41a8-c16d-63615c694f61"
      },
      "source": [
        "# 입력 age에 따라 구분값을 반환하는 함수 설정. DataFrame의 apply lambda식에 사용. \r\n",
        "def get_category(age):\r\n",
        "    cat = ''\r\n",
        "    if age <= -1: cat = 'Unknown'\r\n",
        "    elif age <= 5: cat = 'Baby'\r\n",
        "    elif age <= 12: cat = 'Child'\r\n",
        "    elif age <= 18: cat = 'Teenager'\r\n",
        "    elif age <= 25: cat = 'Student'\r\n",
        "    elif age <= 35: cat = 'Young Adult'\r\n",
        "    elif age <= 60: cat = 'Adult'\r\n",
        "    else : cat = 'Elderly'\r\n",
        "    \r\n",
        "    return cat\r\n",
        "\r\n",
        "# 막대그래프의 크기 figure를 더 크게 설정 \r\n",
        "plt.figure(figsize=(10,6))\r\n",
        "\r\n",
        "#X축의 값을 순차적으로 표시하기 위한 설정 \r\n",
        "group_names = ['Unknown', 'Baby', 'Child', 'Teenager', 'Student', 'Young Adult', 'Adult', 'Elderly']\r\n",
        "\r\n",
        "# lambda 식에 위에서 생성한 get_category( ) 함수를 반환값으로 지정. \r\n",
        "# get_category(X)는 입력값으로 'Age' 컬럼값을 받아서 해당하는 cat 반환\r\n",
        "titanic_df['Age_cat'] = titanic_df['Age'].apply(lambda x : get_category(x))\r\n",
        "sns.barplot(x='Age_cat', y = 'Survived', hue='Sex', data=titanic_df, order=group_names)\r\n",
        "titanic_df.drop('Age_cat', axis=1, inplace=True)"
      ],
      "execution_count": null,
      "outputs": [
        {
          "output_type": "display_data",
          "data": {
            "image/png": "[encoded data removed]",
            "text/plain": [
              "<Figure size 720x432 with 1 Axes>"
            ]
          },
          "metadata": {
            "tags": [],
            "needs_background": "light"
          }
        }
      ]
    },
    {
      "cell_type": "code",
      "metadata": {
        "colab": {
          "base_uri": "https://localhost:8080/",
          "height": 195
        },
        "id": "B8HONtOFXFJq",
        "outputId": "7e41d945-b466-499c-85e8-f80f511a3024"
      },
      "source": [
        "from sklearn import preprocessing\r\n",
        "\r\n",
        "def encode_features(dataDF):\r\n",
        "    features = ['Cabin', 'Sex', 'Embarked']\r\n",
        "    for feature in features:\r\n",
        "        le = preprocessing.LabelEncoder()\r\n",
        "        le = le.fit(dataDF[feature])\r\n",
        "        dataDF[feature] = le.transform(dataDF[feature])\r\n",
        "        \r\n",
        "    return dataDF\r\n",
        "\r\n",
        "titanic_df = encode_features(titanic_df)\r\n",
        "titanic_df.head()"
      ],
      "execution_count": null,
      "outputs": [
        {
          "output_type": "execute_result",
          "data": {
            "text/html": [
              "<div>\n",
              "<style scoped>\n",
              "    .dataframe tbody tr th:only-of-type {\n",
              "        vertical-align: middle;\n",
              "    }\n",
              "\n",
              "    .dataframe tbody tr th {\n",
              "        vertical-align: top;\n",
              "    }\n",
              "\n",
              "    .dataframe thead th {\n",
              "        text-align: right;\n",
              "    }\n",
              "</style>\n",
              "<table border=\"1\" class=\"dataframe\">\n",
              "  <thead>\n",
              "    <tr style=\"text-align: right;\">\n",
              "      <th></th>\n",
              "      <th>PassengerId</th>\n",
              "      <th>Survived</th>\n",
              "      <th>Pclass</th>\n",
              "      <th>Name</th>\n",
              "      <th>Sex</th>\n",
              "      <th>Age</th>\n",
              "      <th>SibSp</th>\n",
              "      <th>Parch</th>\n",
              "      <th>Ticket</th>\n",
              "      <th>Fare</th>\n",
              "      <th>Cabin</th>\n",
              "      <th>Embarked</th>\n",
              "    </tr>\n",
              "  </thead>\n",
              "  <tbody>\n",
              "    <tr>\n",
              "      <th>0</th>\n",
              "      <td>1</td>\n",
              "      <td>0</td>\n",
              "      <td>3</td>\n",
              "      <td>Braund, Mr. Owen Harris</td>\n",
              "      <td>1</td>\n",
              "      <td>22.0</td>\n",
              "      <td>1</td>\n",
              "      <td>0</td>\n",
              "      <td>A/5 21171</td>\n",
              "      <td>7.2500</td>\n",
              "      <td>7</td>\n",
              "      <td>3</td>\n",
              "    </tr>\n",
              "    <tr>\n",
              "      <th>1</th>\n",
              "      <td>2</td>\n",
              "      <td>1</td>\n",
              "      <td>1</td>\n",
              "      <td>Cumings, Mrs. John Bradley (Florence Briggs Th...</td>\n",
              "      <td>0</td>\n",
              "      <td>38.0</td>\n",
              "      <td>1</td>\n",
              "      <td>0</td>\n",
              "      <td>PC 17599</td>\n",
              "      <td>71.2833</td>\n",
              "      <td>2</td>\n",
              "      <td>0</td>\n",
              "    </tr>\n",
              "    <tr>\n",
              "      <th>2</th>\n",
              "      <td>3</td>\n",
              "      <td>1</td>\n",
              "      <td>3</td>\n",
              "      <td>Heikkinen, Miss. Laina</td>\n",
              "      <td>0</td>\n",
              "      <td>26.0</td>\n",
              "      <td>0</td>\n",
              "      <td>0</td>\n",
              "      <td>STON/O2. 3101282</td>\n",
              "      <td>7.9250</td>\n",
              "      <td>7</td>\n",
              "      <td>3</td>\n",
              "    </tr>\n",
              "    <tr>\n",
              "      <th>3</th>\n",
              "      <td>4</td>\n",
              "      <td>1</td>\n",
              "      <td>1</td>\n",
              "      <td>Futrelle, Mrs. Jacques Heath (Lily May Peel)</td>\n",
              "      <td>0</td>\n",
              "      <td>35.0</td>\n",
              "      <td>1</td>\n",
              "      <td>0</td>\n",
              "      <td>113803</td>\n",
              "      <td>53.1000</td>\n",
              "      <td>2</td>\n",
              "      <td>3</td>\n",
              "    </tr>\n",
              "    <tr>\n",
              "      <th>4</th>\n",
              "      <td>5</td>\n",
              "      <td>0</td>\n",
              "      <td>3</td>\n",
              "      <td>Allen, Mr. William Henry</td>\n",
              "      <td>1</td>\n",
              "      <td>35.0</td>\n",
              "      <td>0</td>\n",
              "      <td>0</td>\n",
              "      <td>373450</td>\n",
              "      <td>8.0500</td>\n",
              "      <td>7</td>\n",
              "      <td>3</td>\n",
              "    </tr>\n",
              "  </tbody>\n",
              "</table>\n",
              "</div>"
            ],
            "text/plain": [
              "   PassengerId  Survived  Pclass  ...     Fare  Cabin  Embarked\n",
              "0            1         0       3  ...   7.2500      7         3\n",
              "1            2         1       1  ...  71.2833      2         0\n",
              "2            3         1       3  ...   7.9250      7         3\n",
              "3            4         1       1  ...  53.1000      2         3\n",
              "4            5         0       3  ...   8.0500      7         3\n",
              "\n",
              "[5 rows x 12 columns]"
            ]
          },
          "metadata": {
            "tags": []
          },
          "execution_count": 11
        }
      ]
    },
    {
      "cell_type": "code",
      "metadata": {
        "id": "Eegh-ZZ2XHxa"
      },
      "source": [
        "from sklearn.preprocessing import LabelEncoder\r\n",
        "\r\n",
        "# Null 처리 함수\r\n",
        "def fillna(df):\r\n",
        "    df['Age'].fillna(df['Age'].mean(),inplace=True)\r\n",
        "    df['Cabin'].fillna('N',inplace=True)\r\n",
        "    df['Embarked'].fillna('N',inplace=True)\r\n",
        "    df['Fare'].fillna(0,inplace=True)\r\n",
        "    return df\r\n",
        "\r\n",
        "# 머신러닝 알고리즘에 불필요한 속성 제거\r\n",
        "def drop_features(df):\r\n",
        "    df.drop(['PassengerId','Name','Ticket'],axis=1,inplace=True)\r\n",
        "    return df\r\n",
        "\r\n",
        "# 레이블 인코딩 수행. \r\n",
        "def format_features(df):\r\n",
        "    df['Cabin'] = df['Cabin'].str[:1]\r\n",
        "    features = ['Cabin','Sex','Embarked']\r\n",
        "    for feature in features:\r\n",
        "        le = LabelEncoder()\r\n",
        "        le = le.fit(df[feature])\r\n",
        "        df[feature] = le.transform(df[feature])\r\n",
        "    return df\r\n",
        "\r\n",
        "# 앞에서 설정한 Data Preprocessing 함수 호출\r\n",
        "def transform_features(df):\r\n",
        "    df = fillna(df)\r\n",
        "    df = drop_features(df)\r\n",
        "    df = format_features(df)\r\n",
        "    return df\r\n"
      ],
      "execution_count": null,
      "outputs": []
    },
    {
      "cell_type": "code",
      "metadata": {
        "id": "vCS63CJ8XJ-C"
      },
      "source": [
        "# 원본 데이터를 재로딩 하고, feature데이터 셋과 Label 데이터 셋 추출. \r\n",
        "titanic_df = pd.read_csv('./gdrive/MyDrive/DATA/BASIC/titanic_train.csv')\r\n",
        "y_titanic_df = titanic_df['Survived']\r\n",
        "X_titanic_df= titanic_df.drop('Survived',axis=1)\r\n",
        "\r\n",
        "X_titanic_df = transform_features(X_titanic_df)"
      ],
      "execution_count": null,
      "outputs": []
    },
    {
      "cell_type": "code",
      "metadata": {
        "id": "QwJvDCUgXR6D"
      },
      "source": [
        "from sklearn.model_selection import train_test_split\r\n",
        "X_train, X_test, y_train, y_test=train_test_split(X_titanic_df, y_titanic_df, \\\r\n",
        "                                                  test_size=0.2, random_state=11)"
      ],
      "execution_count": null,
      "outputs": []
    },
    {
      "cell_type": "code",
      "metadata": {
        "colab": {
          "base_uri": "https://localhost:8080/"
        },
        "id": "bGzuZl-HXTuS",
        "outputId": "a913379f-9647-41b9-c40e-d539a9ab4cf0"
      },
      "source": [
        "from sklearn.tree import DecisionTreeClassifier\r\n",
        "from sklearn.ensemble import RandomForestClassifier\r\n",
        "from sklearn.linear_model import LogisticRegression\r\n",
        "from sklearn.metrics import accuracy_score\r\n",
        "\r\n",
        "# 결정트리, Random Forest, 로지스틱 회귀를 위한 사이킷런 Classifier 클래스 생성\r\n",
        "dt_clf = DecisionTreeClassifier(random_state=11)\r\n",
        "rf_clf = RandomForestClassifier(random_state=11)\r\n",
        "lr_clf = LogisticRegression()\r\n",
        "\r\n",
        "# DecisionTreeClassifier 학습/예측/평가\r\n",
        "dt_clf.fit(X_train , y_train)\r\n",
        "dt_pred = dt_clf.predict(X_test)\r\n",
        "print('DecisionTreeClassifier 정확도: {0:.4f}'.format(accuracy_score(y_test, dt_pred)))\r\n",
        "\r\n",
        "# RandomForestClassifier 학습/예측/평가\r\n",
        "rf_clf.fit(X_train , y_train)\r\n",
        "rf_pred = rf_clf.predict(X_test)\r\n",
        "print('RandomForestClassifier 정확도:{0:.4f}'.format(accuracy_score(y_test, rf_pred)))\r\n",
        "\r\n",
        "# LogisticRegression 학습/예측/평가\r\n",
        "lr_clf.fit(X_train , y_train)\r\n",
        "lr_pred = lr_clf.predict(X_test)\r\n",
        "print('LogisticRegression 정확도: {0:.4f}'.format(accuracy_score(y_test, lr_pred)))\r\n"
      ],
      "execution_count": null,
      "outputs": [
        {
          "output_type": "stream",
          "text": [
            "DecisionTreeClassifier 정확도: 0.7877\n",
            "RandomForestClassifier 정확도:0.8547\n",
            "LogisticRegression 정확도: 0.8492\n"
          ],
          "name": "stdout"
        },
        {
          "output_type": "stream",
          "text": [
            "/usr/local/lib/python3.7/dist-packages/sklearn/linear_model/_logistic.py:940: ConvergenceWarning: lbfgs failed to converge (status=1):\n",
            "STOP: TOTAL NO. of ITERATIONS REACHED LIMIT.\n",
            "\n",
            "Increase the number of iterations (max_iter) or scale the data as shown in:\n",
            "    https://scikit-learn.org/stable/modules/preprocessing.html\n",
            "Please also refer to the documentation for alternative solver options:\n",
            "    https://scikit-learn.org/stable/modules/linear_model.html#logistic-regression\n",
            "  extra_warning_msg=_LOGISTIC_SOLVER_CONVERGENCE_MSG)\n"
          ],
          "name": "stderr"
        }
      ]
    },
    {
      "cell_type": "code",
      "metadata": {
        "colab": {
          "base_uri": "https://localhost:8080/"
        },
        "id": "yrXv6NsaXXEZ",
        "outputId": "ba52f87b-9e04-4f32-dbe2-05522a52b170"
      },
      "source": [
        "from sklearn.model_selection import KFold\r\n",
        "\r\n",
        "def exec_kfold(clf, folds=5):\r\n",
        "    # 폴드 세트를 5개인 KFold객체를 생성, 폴드 수만큼 예측결과 저장을 위한  리스트 객체 생성.\r\n",
        "    kfold = KFold(n_splits=folds)\r\n",
        "    scores = []\r\n",
        "    \r\n",
        "    # KFold 교차 검증 수행. \r\n",
        "    for iter_count , (train_index, test_index) in enumerate(kfold.split(X_titanic_df)):\r\n",
        "        # X_titanic_df 데이터에서 교차 검증별로 학습과 검증 데이터를 가리키는 index 생성\r\n",
        "        X_train, X_test = X_titanic_df.values[train_index], X_titanic_df.values[test_index]\r\n",
        "        y_train, y_test = y_titanic_df.values[train_index], y_titanic_df.values[test_index]\r\n",
        "        \r\n",
        "        # Classifier 학습, 예측, 정확도 계산 \r\n",
        "        clf.fit(X_train, y_train) \r\n",
        "        predictions = clf.predict(X_test)\r\n",
        "        accuracy = accuracy_score(y_test, predictions)\r\n",
        "        scores.append(accuracy)\r\n",
        "        print(\"교차 검증 {0} 정확도: {1:.4f}\".format(iter_count, accuracy))     \r\n",
        "    \r\n",
        "    # 5개 fold에서의 평균 정확도 계산. \r\n",
        "    mean_score = np.mean(scores)\r\n",
        "    print(\"평균 정확도: {0:.4f}\".format(mean_score)) \r\n",
        "# exec_kfold 호출\r\n",
        "exec_kfold(dt_clf , folds=5) "
      ],
      "execution_count": null,
      "outputs": [
        {
          "output_type": "stream",
          "text": [
            "교차 검증 0 정확도: 0.7542\n",
            "교차 검증 1 정확도: 0.7809\n",
            "교차 검증 2 정확도: 0.7865\n",
            "교차 검증 3 정확도: 0.7697\n",
            "교차 검증 4 정확도: 0.8202\n",
            "평균 정확도: 0.7823\n"
          ],
          "name": "stdout"
        }
      ]
    },
    {
      "cell_type": "code",
      "metadata": {
        "colab": {
          "base_uri": "https://localhost:8080/"
        },
        "id": "P8vaw1KWXZmy",
        "outputId": "7d9642e4-1e40-4756-89a2-e5eb6f75d61b"
      },
      "source": [
        "from sklearn.model_selection import cross_val_score\r\n",
        "\r\n",
        "scores = cross_val_score(dt_clf, X_titanic_df , y_titanic_df , cv=5)\r\n",
        "for iter_count,accuracy in enumerate(scores):\r\n",
        "    print(\"교차 검증 {0} 정확도: {1:.4f}\".format(iter_count, accuracy))\r\n",
        "\r\n",
        "print(\"평균 정확도: {0:.4f}\".format(np.mean(scores)))"
      ],
      "execution_count": null,
      "outputs": [
        {
          "output_type": "stream",
          "text": [
            "교차 검증 0 정확도: 0.7430\n",
            "교차 검증 1 정확도: 0.7753\n",
            "교차 검증 2 정확도: 0.7921\n",
            "교차 검증 3 정확도: 0.7865\n",
            "교차 검증 4 정확도: 0.8427\n",
            "평균 정확도: 0.7879\n"
          ],
          "name": "stdout"
        }
      ]
    },
    {
      "cell_type": "code",
      "metadata": {
        "id": "sRfhjz0ZXcEK",
        "colab": {
          "base_uri": "https://localhost:8080/"
        },
        "outputId": "dfb9ecb1-c32b-48e9-9105-108763442ed0"
      },
      "source": [
        "from sklearn.model_selection import GridSearchCV\r\n",
        "\r\n",
        "parameters = {'max_depth':[2,3,5,10],\r\n",
        "             'min_samples_split':[2,3,5], 'min_samples_leaf':[1,5,8]}\r\n",
        "\r\n",
        "grid_dclf = GridSearchCV(dt_clf , param_grid=parameters , scoring='accuracy' , cv=5)\r\n",
        "grid_dclf.fit(X_train , y_train)\r\n",
        "\r\n",
        "print('GridSearchCV 최적 하이퍼 파라미터 :',grid_dclf.best_params_)\r\n",
        "print('GridSearchCV 최고 정확도: {0:.4f}'.format(grid_dclf.best_score_))\r\n",
        "best_dclf = grid_dclf.best_estimator_\r\n",
        "\r\n",
        "# GridSearchCV의 최적 하이퍼 파라미터로 학습된 Estimator로 예측 및 평가 수행. \r\n",
        "dpredictions = best_dclf.predict(X_test)\r\n",
        "accuracy = accuracy_score(y_test , dpredictions)\r\n",
        "print('테스트 세트에서의 DecisionTreeClassifier 정확도 : {0:.4f}'.format(accuracy))\r\n"
      ],
      "execution_count": null,
      "outputs": [
        {
          "output_type": "stream",
          "text": [
            "GridSearchCV 최적 하이퍼 파라미터 : {'max_depth': 3, 'min_samples_leaf': 5, 'min_samples_split': 2}\n",
            "GridSearchCV 최고 정확도: 0.7992\n",
            "테스트 세트에서의 DecisionTreeClassifier 정확도 : 0.8715\n"
          ],
          "name": "stdout"
        }
      ]
    }
  ]
}